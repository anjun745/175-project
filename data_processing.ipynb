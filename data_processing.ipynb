{
 "cells": [
  {
   "cell_type": "code",
   "execution_count": 1,
   "id": "387dcae5",
   "metadata": {},
   "outputs": [],
   "source": [
    "import numpy as np\n",
    "import pandas as pd\n",
    "import matplotlib.pyplot as plt\n",
    "import datetime"
   ]
  },
  {
   "cell_type": "code",
   "execution_count": 2,
   "id": "98abff13",
   "metadata": {},
   "outputs": [
    {
     "data": {
      "text/html": [
       "<div>\n",
       "<style scoped>\n",
       "    .dataframe tbody tr th:only-of-type {\n",
       "        vertical-align: middle;\n",
       "    }\n",
       "\n",
       "    .dataframe tbody tr th {\n",
       "        vertical-align: top;\n",
       "    }\n",
       "\n",
       "    .dataframe thead th {\n",
       "        text-align: right;\n",
       "    }\n",
       "</style>\n",
       "<table border=\"1\" class=\"dataframe\">\n",
       "  <thead>\n",
       "    <tr style=\"text-align: right;\">\n",
       "      <th></th>\n",
       "      <th>Unnamed: 0</th>\n",
       "      <th>title</th>\n",
       "      <th>date</th>\n",
       "      <th>stock</th>\n",
       "      <th>sentiment</th>\n",
       "    </tr>\n",
       "  </thead>\n",
       "  <tbody>\n",
       "    <tr>\n",
       "      <th>0</th>\n",
       "      <td>0.0</td>\n",
       "      <td>Stocks That Hit 52-Week Highs On Friday</td>\n",
       "      <td>2020-06-05 10:30:00-04:00</td>\n",
       "      <td>A</td>\n",
       "      <td>neutral</td>\n",
       "    </tr>\n",
       "    <tr>\n",
       "      <th>1</th>\n",
       "      <td>1.0</td>\n",
       "      <td>Stocks That Hit 52-Week Highs On Wednesday</td>\n",
       "      <td>2020-06-03 10:45:00-04:00</td>\n",
       "      <td>A</td>\n",
       "      <td>neutral</td>\n",
       "    </tr>\n",
       "    <tr>\n",
       "      <th>2</th>\n",
       "      <td>2.0</td>\n",
       "      <td>71 Biggest Movers From Friday</td>\n",
       "      <td>2020-05-26 04:30:00-04:00</td>\n",
       "      <td>A</td>\n",
       "      <td>neutral</td>\n",
       "    </tr>\n",
       "    <tr>\n",
       "      <th>3</th>\n",
       "      <td>3.0</td>\n",
       "      <td>46 Stocks Moving In Friday's Mid-Day Session</td>\n",
       "      <td>2020-05-22 12:45:00-04:00</td>\n",
       "      <td>A</td>\n",
       "      <td>neutral</td>\n",
       "    </tr>\n",
       "    <tr>\n",
       "      <th>4</th>\n",
       "      <td>4.0</td>\n",
       "      <td>B of A Securities Maintains Neutral on Agilent...</td>\n",
       "      <td>2020-05-22 11:38:00-04:00</td>\n",
       "      <td>A</td>\n",
       "      <td>positive</td>\n",
       "    </tr>\n",
       "  </tbody>\n",
       "</table>\n",
       "</div>"
      ],
      "text/plain": [
       "   Unnamed: 0                                              title  \\\n",
       "0         0.0            Stocks That Hit 52-Week Highs On Friday   \n",
       "1         1.0         Stocks That Hit 52-Week Highs On Wednesday   \n",
       "2         2.0                      71 Biggest Movers From Friday   \n",
       "3         3.0       46 Stocks Moving In Friday's Mid-Day Session   \n",
       "4         4.0  B of A Securities Maintains Neutral on Agilent...   \n",
       "\n",
       "                        date stock sentiment  \n",
       "0  2020-06-05 10:30:00-04:00     A   neutral  \n",
       "1  2020-06-03 10:45:00-04:00     A   neutral  \n",
       "2  2020-05-26 04:30:00-04:00     A   neutral  \n",
       "3  2020-05-22 12:45:00-04:00     A   neutral  \n",
       "4  2020-05-22 11:38:00-04:00     A  positive  "
      ]
     },
     "execution_count": 2,
     "metadata": {},
     "output_type": "execute_result"
    }
   ],
   "source": [
    "df_finbert = pd.read_csv('finBert_sentiment.csv')\n",
    "df_finbert.head()"
   ]
  },
  {
   "cell_type": "code",
   "execution_count": 4,
   "id": "fe503900",
   "metadata": {},
   "outputs": [
    {
     "data": {
      "text/plain": [
       "(333509, 5)"
      ]
     },
     "execution_count": 4,
     "metadata": {},
     "output_type": "execute_result"
    }
   ],
   "source": [
    "df_finbert.shape"
   ]
  },
  {
   "cell_type": "markdown",
   "id": "c71c9a07",
   "metadata": {},
   "source": [
    "## Data processing notebook\n",
    "Here are the files for stock and news. Some basic processing were done to make it more concise"
   ]
  },
  {
   "cell_type": "code",
   "execution_count": 2,
   "id": "072b40ce",
   "metadata": {},
   "outputs": [],
   "source": [
    "# df_stock = pd.read_csv(\"SPX.csv\")\n",
    "# df_stock.head()"
   ]
  },
  {
   "cell_type": "code",
   "execution_count": 3,
   "id": "e5af5c08",
   "metadata": {},
   "outputs": [],
   "source": [
    "# df_stock['Date'] = pd.to_datetime(df_stock['Date'])\n",
    "# df_stock.set_index('Date', inplace=True)\n",
    "# df_stock = df_stock.iloc[::-1]\n",
    "# df_stock.head()"
   ]
  },
  {
   "cell_type": "code",
   "execution_count": 4,
   "id": "dfdd0e76",
   "metadata": {},
   "outputs": [
    {
     "data": {
      "text/html": [
       "<div>\n",
       "<style scoped>\n",
       "    .dataframe tbody tr th:only-of-type {\n",
       "        vertical-align: middle;\n",
       "    }\n",
       "\n",
       "    .dataframe tbody tr th {\n",
       "        vertical-align: top;\n",
       "    }\n",
       "\n",
       "    .dataframe thead th {\n",
       "        text-align: right;\n",
       "    }\n",
       "</style>\n",
       "<table border=\"1\" class=\"dataframe\">\n",
       "  <thead>\n",
       "    <tr style=\"text-align: right;\">\n",
       "      <th></th>\n",
       "      <th>open</th>\n",
       "      <th>high</th>\n",
       "      <th>low</th>\n",
       "      <th>close</th>\n",
       "      <th>volume</th>\n",
       "      <th>Name</th>\n",
       "    </tr>\n",
       "    <tr>\n",
       "      <th>date</th>\n",
       "      <th></th>\n",
       "      <th></th>\n",
       "      <th></th>\n",
       "      <th></th>\n",
       "      <th></th>\n",
       "      <th></th>\n",
       "    </tr>\n",
       "  </thead>\n",
       "  <tbody>\n",
       "    <tr>\n",
       "      <th>2018-02-07</th>\n",
       "      <td>72.70</td>\n",
       "      <td>75.00</td>\n",
       "      <td>72.69</td>\n",
       "      <td>73.86</td>\n",
       "      <td>4534912</td>\n",
       "      <td>ZTS</td>\n",
       "    </tr>\n",
       "    <tr>\n",
       "      <th>2018-02-06</th>\n",
       "      <td>72.74</td>\n",
       "      <td>74.56</td>\n",
       "      <td>72.13</td>\n",
       "      <td>73.27</td>\n",
       "      <td>4924323</td>\n",
       "      <td>ZTS</td>\n",
       "    </tr>\n",
       "    <tr>\n",
       "      <th>2018-02-05</th>\n",
       "      <td>76.64</td>\n",
       "      <td>76.92</td>\n",
       "      <td>73.18</td>\n",
       "      <td>73.83</td>\n",
       "      <td>2962031</td>\n",
       "      <td>ZTS</td>\n",
       "    </tr>\n",
       "    <tr>\n",
       "      <th>2018-02-02</th>\n",
       "      <td>77.53</td>\n",
       "      <td>78.12</td>\n",
       "      <td>76.73</td>\n",
       "      <td>76.78</td>\n",
       "      <td>2595187</td>\n",
       "      <td>ZTS</td>\n",
       "    </tr>\n",
       "    <tr>\n",
       "      <th>2018-02-01</th>\n",
       "      <td>76.84</td>\n",
       "      <td>78.27</td>\n",
       "      <td>76.69</td>\n",
       "      <td>77.82</td>\n",
       "      <td>2982259</td>\n",
       "      <td>ZTS</td>\n",
       "    </tr>\n",
       "  </tbody>\n",
       "</table>\n",
       "</div>"
      ],
      "text/plain": [
       "             open   high    low  close   volume Name\n",
       "date                                                \n",
       "2018-02-07  72.70  75.00  72.69  73.86  4534912  ZTS\n",
       "2018-02-06  72.74  74.56  72.13  73.27  4924323  ZTS\n",
       "2018-02-05  76.64  76.92  73.18  73.83  2962031  ZTS\n",
       "2018-02-02  77.53  78.12  76.73  76.78  2595187  ZTS\n",
       "2018-02-01  76.84  78.27  76.69  77.82  2982259  ZTS"
      ]
     },
     "execution_count": 4,
     "metadata": {},
     "output_type": "execute_result"
    }
   ],
   "source": [
    "df_snp = pd.read_csv(\"all_stocks_5yr.csv\")\n",
    "df_snp['date'] = pd.to_datetime(df_snp['date'])\n",
    "df_snp.set_index('date', inplace=True)\n",
    "df_snp = df_snp.iloc[::-1]\n",
    "df_snp.head()"
   ]
  },
  {
   "cell_type": "code",
   "execution_count": 5,
   "id": "f7b5282c",
   "metadata": {},
   "outputs": [],
   "source": [
    "snp500_tickers = df_snp['Name'].unique()\n",
    "snp500_tickers = snp500_tickers.tolist()"
   ]
  },
  {
   "cell_type": "code",
   "execution_count": 6,
   "id": "a8d3f527",
   "metadata": {},
   "outputs": [],
   "source": [
    "df_news = pd.read_csv(\"analyst_ratings_processed.csv\")\n",
    "# df_news.head()"
   ]
  },
  {
   "cell_type": "code",
   "execution_count": 7,
   "id": "766bd749",
   "metadata": {},
   "outputs": [
    {
     "data": {
      "text/html": [
       "<div>\n",
       "<style scoped>\n",
       "    .dataframe tbody tr th:only-of-type {\n",
       "        vertical-align: middle;\n",
       "    }\n",
       "\n",
       "    .dataframe tbody tr th {\n",
       "        vertical-align: top;\n",
       "    }\n",
       "\n",
       "    .dataframe thead th {\n",
       "        text-align: right;\n",
       "    }\n",
       "</style>\n",
       "<table border=\"1\" class=\"dataframe\">\n",
       "  <thead>\n",
       "    <tr style=\"text-align: right;\">\n",
       "      <th></th>\n",
       "      <th>title</th>\n",
       "      <th>stock</th>\n",
       "    </tr>\n",
       "    <tr>\n",
       "      <th>date</th>\n",
       "      <th></th>\n",
       "      <th></th>\n",
       "    </tr>\n",
       "  </thead>\n",
       "  <tbody>\n",
       "    <tr>\n",
       "      <th>2020-06-05 14:30:00+00:00</th>\n",
       "      <td>Stocks That Hit 52-Week Highs On Friday</td>\n",
       "      <td>A</td>\n",
       "    </tr>\n",
       "    <tr>\n",
       "      <th>2020-06-03 14:45:00+00:00</th>\n",
       "      <td>Stocks That Hit 52-Week Highs On Wednesday</td>\n",
       "      <td>A</td>\n",
       "    </tr>\n",
       "    <tr>\n",
       "      <th>2020-05-26 08:30:00+00:00</th>\n",
       "      <td>71 Biggest Movers From Friday</td>\n",
       "      <td>A</td>\n",
       "    </tr>\n",
       "    <tr>\n",
       "      <th>2020-05-22 16:45:00+00:00</th>\n",
       "      <td>46 Stocks Moving In Friday's Mid-Day Session</td>\n",
       "      <td>A</td>\n",
       "    </tr>\n",
       "    <tr>\n",
       "      <th>2020-05-22 15:38:00+00:00</th>\n",
       "      <td>B of A Securities Maintains Neutral on Agilent...</td>\n",
       "      <td>A</td>\n",
       "    </tr>\n",
       "  </tbody>\n",
       "</table>\n",
       "</div>"
      ],
      "text/plain": [
       "                                                                       title  \\\n",
       "date                                                                           \n",
       "2020-06-05 14:30:00+00:00            Stocks That Hit 52-Week Highs On Friday   \n",
       "2020-06-03 14:45:00+00:00         Stocks That Hit 52-Week Highs On Wednesday   \n",
       "2020-05-26 08:30:00+00:00                      71 Biggest Movers From Friday   \n",
       "2020-05-22 16:45:00+00:00       46 Stocks Moving In Friday's Mid-Day Session   \n",
       "2020-05-22 15:38:00+00:00  B of A Securities Maintains Neutral on Agilent...   \n",
       "\n",
       "                          stock  \n",
       "date                             \n",
       "2020-06-05 14:30:00+00:00     A  \n",
       "2020-06-03 14:45:00+00:00     A  \n",
       "2020-05-26 08:30:00+00:00     A  \n",
       "2020-05-22 16:45:00+00:00     A  \n",
       "2020-05-22 15:38:00+00:00     A  "
      ]
     },
     "execution_count": 7,
     "metadata": {},
     "output_type": "execute_result"
    }
   ],
   "source": [
    "df_news = df_news.dropna(subset=['title'])  # doesn't seem necessary\n",
    "del df_news['Unnamed: 0']  # this was the index\n",
    "df_news['date'] = pd.to_datetime(df_news['date'], errors='coerce', utc=True)\n",
    "df_news = df_news.dropna(subset=['date'])\n",
    "df_news.set_index('date', inplace=True)\n",
    "df_news.head()"
   ]
  },
  {
   "cell_type": "code",
   "execution_count": 8,
   "id": "ba6fa1f7",
   "metadata": {},
   "outputs": [],
   "source": [
    "df_news = df_news[df_news['stock'].isin(snp500_tickers)]\n"
   ]
  },
  {
   "cell_type": "code",
   "execution_count": 9,
   "id": "91b1f2b8",
   "metadata": {},
   "outputs": [
    {
     "data": {
      "text/plain": [
       "((383051, 2), (619040, 6))"
      ]
     },
     "execution_count": 9,
     "metadata": {},
     "output_type": "execute_result"
    }
   ],
   "source": [
    "df_news.shape, df_snp.shape"
   ]
  },
  {
   "cell_type": "code",
   "execution_count": 10,
   "id": "f9692806",
   "metadata": {},
   "outputs": [
    {
     "data": {
      "text/plain": [
       "(Index(['open', 'high', 'low', 'close', 'volume', 'Name'], dtype='object'),\n",
       " Index(['title', 'stock'], dtype='object'))"
      ]
     },
     "execution_count": 10,
     "metadata": {},
     "output_type": "execute_result"
    }
   ],
   "source": [
    "df_snp.columns, df_news.columns"
   ]
  },
  {
   "cell_type": "code",
   "execution_count": 11,
   "id": "1bf46635",
   "metadata": {},
   "outputs": [],
   "source": [
    "df_snp.rename(columns={'Name': 'stock'}, inplace=True)\n",
    "\n",
    "df_snp.index = pd.to_datetime(df_snp.index).tz_localize('UTC').date\n",
    "df_news.index = pd.to_datetime(df_news.index).date\n",
    "\n",
    "df_snp = df_snp.reset_index().rename(columns={'index': 'date'})\n",
    "df_news = df_news.reset_index().rename(columns={'index': 'date'})\n"
   ]
  },
  {
   "cell_type": "code",
   "execution_count": 12,
   "id": "bcbae4f3",
   "metadata": {},
   "outputs": [],
   "source": [
    "df_merged = df_snp.merge(\n",
    "    df_news,\n",
    "    on=['date', 'stock'],\n",
    "    how='left'\n",
    ")"
   ]
  },
  {
   "cell_type": "code",
   "execution_count": 17,
   "id": "e2202613",
   "metadata": {},
   "outputs": [],
   "source": [
    "df_with_news = df_merged[df_merged['title'].notna()]"
   ]
  },
  {
   "cell_type": "code",
   "execution_count": 22,
   "id": "e16d6d21",
   "metadata": {},
   "outputs": [
    {
     "data": {
      "text/html": [
       "<div>\n",
       "<style scoped>\n",
       "    .dataframe tbody tr th:only-of-type {\n",
       "        vertical-align: middle;\n",
       "    }\n",
       "\n",
       "    .dataframe tbody tr th {\n",
       "        vertical-align: top;\n",
       "    }\n",
       "\n",
       "    .dataframe thead th {\n",
       "        text-align: right;\n",
       "    }\n",
       "</style>\n",
       "<table border=\"1\" class=\"dataframe\">\n",
       "  <thead>\n",
       "    <tr style=\"text-align: right;\">\n",
       "      <th></th>\n",
       "      <th>date</th>\n",
       "      <th>open</th>\n",
       "      <th>high</th>\n",
       "      <th>low</th>\n",
       "      <th>close</th>\n",
       "      <th>volume</th>\n",
       "      <th>stock</th>\n",
       "      <th>title</th>\n",
       "    </tr>\n",
       "  </thead>\n",
       "  <tbody>\n",
       "    <tr>\n",
       "      <th>21</th>\n",
       "      <td>2018-01-08</td>\n",
       "      <td>73.43</td>\n",
       "      <td>74.42</td>\n",
       "      <td>73.1607</td>\n",
       "      <td>74.24</td>\n",
       "      <td>3631552</td>\n",
       "      <td>ZTS</td>\n",
       "      <td>Zoetis 8-K Shows Expectation For Net Reduction...</td>\n",
       "    </tr>\n",
       "    <tr>\n",
       "      <th>32</th>\n",
       "      <td>2017-12-20</td>\n",
       "      <td>72.84</td>\n",
       "      <td>73.16</td>\n",
       "      <td>72.1700</td>\n",
       "      <td>72.71</td>\n",
       "      <td>1806257</td>\n",
       "      <td>ZTS</td>\n",
       "      <td>Zoetis Spikes to High of $73.08 on Volume; Act...</td>\n",
       "    </tr>\n",
       "    <tr>\n",
       "      <th>38</th>\n",
       "      <td>2017-12-12</td>\n",
       "      <td>71.77</td>\n",
       "      <td>72.66</td>\n",
       "      <td>71.6400</td>\n",
       "      <td>72.23</td>\n",
       "      <td>1939851</td>\n",
       "      <td>ZTS</td>\n",
       "      <td>Zoetis Launches Vanguard CIV H3N2/H3N8 Vaccine...</td>\n",
       "    </tr>\n",
       "    <tr>\n",
       "      <th>39</th>\n",
       "      <td>2017-12-11</td>\n",
       "      <td>71.84</td>\n",
       "      <td>71.97</td>\n",
       "      <td>71.5200</td>\n",
       "      <td>71.77</td>\n",
       "      <td>1172513</td>\n",
       "      <td>ZTS</td>\n",
       "      <td>Zoetis Raises Qtr. Dividend From $.105/Share T...</td>\n",
       "    </tr>\n",
       "    <tr>\n",
       "      <th>47</th>\n",
       "      <td>2017-11-29</td>\n",
       "      <td>71.99</td>\n",
       "      <td>72.10</td>\n",
       "      <td>71.2800</td>\n",
       "      <td>71.61</td>\n",
       "      <td>1618690</td>\n",
       "      <td>ZTS</td>\n",
       "      <td>Analyst: Zoetis Deserves To Trade At A Premium</td>\n",
       "    </tr>\n",
       "    <tr>\n",
       "      <th>...</th>\n",
       "      <td>...</td>\n",
       "      <td>...</td>\n",
       "      <td>...</td>\n",
       "      <td>...</td>\n",
       "      <td>...</td>\n",
       "      <td>...</td>\n",
       "      <td>...</td>\n",
       "      <td>...</td>\n",
       "    </tr>\n",
       "    <tr>\n",
       "      <th>697721</th>\n",
       "      <td>2013-04-10</td>\n",
       "      <td>79.00</td>\n",
       "      <td>81.85</td>\n",
       "      <td>79.0000</td>\n",
       "      <td>81.23</td>\n",
       "      <td>1758927</td>\n",
       "      <td>AAP</td>\n",
       "      <td>Advance Auto Parts CFO on Webcast, Says Q1 Has...</td>\n",
       "    </tr>\n",
       "    <tr>\n",
       "      <th>697725</th>\n",
       "      <td>2013-04-04</td>\n",
       "      <td>82.20</td>\n",
       "      <td>82.97</td>\n",
       "      <td>81.9300</td>\n",
       "      <td>82.20</td>\n",
       "      <td>819476</td>\n",
       "      <td>AAP</td>\n",
       "      <td>George Sherman Appointed President of Advance ...</td>\n",
       "    </tr>\n",
       "    <tr>\n",
       "      <th>697726</th>\n",
       "      <td>2013-04-04</td>\n",
       "      <td>82.20</td>\n",
       "      <td>82.97</td>\n",
       "      <td>81.9300</td>\n",
       "      <td>82.20</td>\n",
       "      <td>819476</td>\n",
       "      <td>AAP</td>\n",
       "      <td>Advance Auto Parts Names George Sherman President</td>\n",
       "    </tr>\n",
       "    <tr>\n",
       "      <th>697763</th>\n",
       "      <td>2013-02-08</td>\n",
       "      <td>78.34</td>\n",
       "      <td>79.72</td>\n",
       "      <td>78.0100</td>\n",
       "      <td>78.90</td>\n",
       "      <td>1298137</td>\n",
       "      <td>AAP</td>\n",
       "      <td>UPDATE: JP Morgan Upgrades Advance Auto Parts ...</td>\n",
       "    </tr>\n",
       "    <tr>\n",
       "      <th>697764</th>\n",
       "      <td>2013-02-08</td>\n",
       "      <td>78.34</td>\n",
       "      <td>79.72</td>\n",
       "      <td>78.0100</td>\n",
       "      <td>78.90</td>\n",
       "      <td>1298137</td>\n",
       "      <td>AAP</td>\n",
       "      <td>JP Morgan Upgrades Advance Auto Parts Inc to O...</td>\n",
       "    </tr>\n",
       "  </tbody>\n",
       "</table>\n",
       "<p>161777 rows × 8 columns</p>\n",
       "</div>"
      ],
      "text/plain": [
       "              date   open   high      low  close   volume stock  \\\n",
       "21      2018-01-08  73.43  74.42  73.1607  74.24  3631552   ZTS   \n",
       "32      2017-12-20  72.84  73.16  72.1700  72.71  1806257   ZTS   \n",
       "38      2017-12-12  71.77  72.66  71.6400  72.23  1939851   ZTS   \n",
       "39      2017-12-11  71.84  71.97  71.5200  71.77  1172513   ZTS   \n",
       "47      2017-11-29  71.99  72.10  71.2800  71.61  1618690   ZTS   \n",
       "...            ...    ...    ...      ...    ...      ...   ...   \n",
       "697721  2013-04-10  79.00  81.85  79.0000  81.23  1758927   AAP   \n",
       "697725  2013-04-04  82.20  82.97  81.9300  82.20   819476   AAP   \n",
       "697726  2013-04-04  82.20  82.97  81.9300  82.20   819476   AAP   \n",
       "697763  2013-02-08  78.34  79.72  78.0100  78.90  1298137   AAP   \n",
       "697764  2013-02-08  78.34  79.72  78.0100  78.90  1298137   AAP   \n",
       "\n",
       "                                                    title  \n",
       "21      Zoetis 8-K Shows Expectation For Net Reduction...  \n",
       "32      Zoetis Spikes to High of $73.08 on Volume; Act...  \n",
       "38      Zoetis Launches Vanguard CIV H3N2/H3N8 Vaccine...  \n",
       "39      Zoetis Raises Qtr. Dividend From $.105/Share T...  \n",
       "47         Analyst: Zoetis Deserves To Trade At A Premium  \n",
       "...                                                   ...  \n",
       "697721  Advance Auto Parts CFO on Webcast, Says Q1 Has...  \n",
       "697725  George Sherman Appointed President of Advance ...  \n",
       "697726  Advance Auto Parts Names George Sherman President  \n",
       "697763  UPDATE: JP Morgan Upgrades Advance Auto Parts ...  \n",
       "697764  JP Morgan Upgrades Advance Auto Parts Inc to O...  \n",
       "\n",
       "[161777 rows x 8 columns]"
      ]
     },
     "execution_count": 22,
     "metadata": {},
     "output_type": "execute_result"
    }
   ],
   "source": [
    "df_with_news"
   ]
  },
  {
   "cell_type": "code",
   "execution_count": 24,
   "id": "dcdae08e",
   "metadata": {},
   "outputs": [
    {
     "name": "stdout",
     "output_type": "stream",
     "text": [
      "count     392.000000\n",
      "mean      412.696429\n",
      "std       348.523091\n",
      "min         1.000000\n",
      "25%       179.000000\n",
      "50%       297.000000\n",
      "75%       495.000000\n",
      "max      1984.000000\n",
      "Name: count, dtype: float64\n"
     ]
    }
   ],
   "source": [
    "stock_counts = df_with_news['stock'].value_counts()\n",
    "print(stock_counts.describe())\n"
   ]
  }
 ],
 "metadata": {
  "kernelspec": {
   "display_name": "base",
   "language": "python",
   "name": "python3"
  },
  "language_info": {
   "codemirror_mode": {
    "name": "ipython",
    "version": 3
   },
   "file_extension": ".py",
   "mimetype": "text/x-python",
   "name": "python",
   "nbconvert_exporter": "python",
   "pygments_lexer": "ipython3",
   "version": "3.12.3"
  }
 },
 "nbformat": 4,
 "nbformat_minor": 5
}
