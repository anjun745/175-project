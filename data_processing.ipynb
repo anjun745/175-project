{
 "cells": [
  {
   "cell_type": "code",
   "execution_count": 1,
   "id": "387dcae5",
   "metadata": {},
   "outputs": [],
   "source": [
    "import numpy as np\n",
    "import pandas as pd\n",
    "import matplotlib.pyplot as plt\n",
    "import datetime\n",
    "seed = 69"
   ]
  },
  {
   "cell_type": "code",
   "execution_count": 2,
   "id": "98abff13",
   "metadata": {},
   "outputs": [
    {
     "data": {
      "text/html": [
       "<div>\n",
       "<style scoped>\n",
       "    .dataframe tbody tr th:only-of-type {\n",
       "        vertical-align: middle;\n",
       "    }\n",
       "\n",
       "    .dataframe tbody tr th {\n",
       "        vertical-align: top;\n",
       "    }\n",
       "\n",
       "    .dataframe thead th {\n",
       "        text-align: right;\n",
       "    }\n",
       "</style>\n",
       "<table border=\"1\" class=\"dataframe\">\n",
       "  <thead>\n",
       "    <tr style=\"text-align: right;\">\n",
       "      <th></th>\n",
       "      <th>Unnamed: 0</th>\n",
       "      <th>title</th>\n",
       "      <th>date</th>\n",
       "      <th>stock</th>\n",
       "      <th>sentiment</th>\n",
       "    </tr>\n",
       "  </thead>\n",
       "  <tbody>\n",
       "    <tr>\n",
       "      <th>0</th>\n",
       "      <td>0.0</td>\n",
       "      <td>Stocks That Hit 52-Week Highs On Friday</td>\n",
       "      <td>2020-06-05 10:30:00-04:00</td>\n",
       "      <td>A</td>\n",
       "      <td>neutral</td>\n",
       "    </tr>\n",
       "    <tr>\n",
       "      <th>1</th>\n",
       "      <td>1.0</td>\n",
       "      <td>Stocks That Hit 52-Week Highs On Wednesday</td>\n",
       "      <td>2020-06-03 10:45:00-04:00</td>\n",
       "      <td>A</td>\n",
       "      <td>neutral</td>\n",
       "    </tr>\n",
       "    <tr>\n",
       "      <th>2</th>\n",
       "      <td>2.0</td>\n",
       "      <td>71 Biggest Movers From Friday</td>\n",
       "      <td>2020-05-26 04:30:00-04:00</td>\n",
       "      <td>A</td>\n",
       "      <td>neutral</td>\n",
       "    </tr>\n",
       "    <tr>\n",
       "      <th>3</th>\n",
       "      <td>3.0</td>\n",
       "      <td>46 Stocks Moving In Friday's Mid-Day Session</td>\n",
       "      <td>2020-05-22 12:45:00-04:00</td>\n",
       "      <td>A</td>\n",
       "      <td>neutral</td>\n",
       "    </tr>\n",
       "    <tr>\n",
       "      <th>4</th>\n",
       "      <td>4.0</td>\n",
       "      <td>B of A Securities Maintains Neutral on Agilent...</td>\n",
       "      <td>2020-05-22 11:38:00-04:00</td>\n",
       "      <td>A</td>\n",
       "      <td>positive</td>\n",
       "    </tr>\n",
       "  </tbody>\n",
       "</table>\n",
       "</div>"
      ],
      "text/plain": [
       "   Unnamed: 0                                              title  \\\n",
       "0         0.0            Stocks That Hit 52-Week Highs On Friday   \n",
       "1         1.0         Stocks That Hit 52-Week Highs On Wednesday   \n",
       "2         2.0                      71 Biggest Movers From Friday   \n",
       "3         3.0       46 Stocks Moving In Friday's Mid-Day Session   \n",
       "4         4.0  B of A Securities Maintains Neutral on Agilent...   \n",
       "\n",
       "                        date stock sentiment  \n",
       "0  2020-06-05 10:30:00-04:00     A   neutral  \n",
       "1  2020-06-03 10:45:00-04:00     A   neutral  \n",
       "2  2020-05-26 04:30:00-04:00     A   neutral  \n",
       "3  2020-05-22 12:45:00-04:00     A   neutral  \n",
       "4  2020-05-22 11:38:00-04:00     A  positive  "
      ]
     },
     "execution_count": 2,
     "metadata": {},
     "output_type": "execute_result"
    }
   ],
   "source": [
    "df_finbert = pd.read_csv('finBert_sentiment.csv')\n",
    "df_finbert.head()"
   ]
  },
  {
   "cell_type": "code",
   "execution_count": 3,
   "id": "fe503900",
   "metadata": {},
   "outputs": [
    {
     "data": {
      "text/plain": [
       "(383051, 5)"
      ]
     },
     "execution_count": 3,
     "metadata": {},
     "output_type": "execute_result"
    }
   ],
   "source": [
    "df_finbert.shape"
   ]
  },
  {
   "cell_type": "markdown",
   "id": "c71c9a07",
   "metadata": {},
   "source": [
    "## Data processing notebook\n",
    "Here are the files for stock and news. Some basic processing were done to make it more concise"
   ]
  },
  {
   "cell_type": "code",
   "execution_count": 2,
   "id": "072b40ce",
   "metadata": {},
   "outputs": [],
   "source": [
    "# df_stock = pd.read_csv(\"SPX.csv\")\n",
    "# df_stock.head()"
   ]
  },
  {
   "cell_type": "code",
   "execution_count": 3,
   "id": "e5af5c08",
   "metadata": {},
   "outputs": [],
   "source": [
    "# df_stock['Date'] = pd.to_datetime(df_stock['Date'])\n",
    "# df_stock.set_index('Date', inplace=True)\n",
    "# df_stock = df_stock.iloc[::-1]\n",
    "# df_stock.head()"
   ]
  },
  {
   "cell_type": "code",
   "execution_count": 3,
   "id": "dfdd0e76",
   "metadata": {},
   "outputs": [
    {
     "data": {
      "text/html": [
       "<div>\n",
       "<style scoped>\n",
       "    .dataframe tbody tr th:only-of-type {\n",
       "        vertical-align: middle;\n",
       "    }\n",
       "\n",
       "    .dataframe tbody tr th {\n",
       "        vertical-align: top;\n",
       "    }\n",
       "\n",
       "    .dataframe thead th {\n",
       "        text-align: right;\n",
       "    }\n",
       "</style>\n",
       "<table border=\"1\" class=\"dataframe\">\n",
       "  <thead>\n",
       "    <tr style=\"text-align: right;\">\n",
       "      <th></th>\n",
       "      <th>open</th>\n",
       "      <th>high</th>\n",
       "      <th>low</th>\n",
       "      <th>close</th>\n",
       "      <th>volume</th>\n",
       "      <th>Name</th>\n",
       "    </tr>\n",
       "    <tr>\n",
       "      <th>date</th>\n",
       "      <th></th>\n",
       "      <th></th>\n",
       "      <th></th>\n",
       "      <th></th>\n",
       "      <th></th>\n",
       "      <th></th>\n",
       "    </tr>\n",
       "  </thead>\n",
       "  <tbody>\n",
       "    <tr>\n",
       "      <th>2018-02-07</th>\n",
       "      <td>72.70</td>\n",
       "      <td>75.00</td>\n",
       "      <td>72.69</td>\n",
       "      <td>73.86</td>\n",
       "      <td>4534912</td>\n",
       "      <td>ZTS</td>\n",
       "    </tr>\n",
       "    <tr>\n",
       "      <th>2018-02-06</th>\n",
       "      <td>72.74</td>\n",
       "      <td>74.56</td>\n",
       "      <td>72.13</td>\n",
       "      <td>73.27</td>\n",
       "      <td>4924323</td>\n",
       "      <td>ZTS</td>\n",
       "    </tr>\n",
       "    <tr>\n",
       "      <th>2018-02-05</th>\n",
       "      <td>76.64</td>\n",
       "      <td>76.92</td>\n",
       "      <td>73.18</td>\n",
       "      <td>73.83</td>\n",
       "      <td>2962031</td>\n",
       "      <td>ZTS</td>\n",
       "    </tr>\n",
       "    <tr>\n",
       "      <th>2018-02-02</th>\n",
       "      <td>77.53</td>\n",
       "      <td>78.12</td>\n",
       "      <td>76.73</td>\n",
       "      <td>76.78</td>\n",
       "      <td>2595187</td>\n",
       "      <td>ZTS</td>\n",
       "    </tr>\n",
       "    <tr>\n",
       "      <th>2018-02-01</th>\n",
       "      <td>76.84</td>\n",
       "      <td>78.27</td>\n",
       "      <td>76.69</td>\n",
       "      <td>77.82</td>\n",
       "      <td>2982259</td>\n",
       "      <td>ZTS</td>\n",
       "    </tr>\n",
       "  </tbody>\n",
       "</table>\n",
       "</div>"
      ],
      "text/plain": [
       "             open   high    low  close   volume Name\n",
       "date                                                \n",
       "2018-02-07  72.70  75.00  72.69  73.86  4534912  ZTS\n",
       "2018-02-06  72.74  74.56  72.13  73.27  4924323  ZTS\n",
       "2018-02-05  76.64  76.92  73.18  73.83  2962031  ZTS\n",
       "2018-02-02  77.53  78.12  76.73  76.78  2595187  ZTS\n",
       "2018-02-01  76.84  78.27  76.69  77.82  2982259  ZTS"
      ]
     },
     "execution_count": 3,
     "metadata": {},
     "output_type": "execute_result"
    }
   ],
   "source": [
    "df_snp = pd.read_csv(\"all_stocks_5yr.csv\")\n",
    "df_snp['date'] = pd.to_datetime(df_snp['date'])\n",
    "df_snp.set_index('date', inplace=True)\n",
    "df_snp = df_snp.iloc[::-1]\n",
    "df_snp.head()"
   ]
  },
  {
   "cell_type": "code",
   "execution_count": 4,
   "id": "f7b5282c",
   "metadata": {},
   "outputs": [],
   "source": [
    "snp500_tickers = df_snp['Name'].unique()\n",
    "snp500_tickers = snp500_tickers.tolist()"
   ]
  },
  {
   "cell_type": "code",
   "execution_count": null,
   "id": "a8d3f527",
   "metadata": {},
   "outputs": [],
   "source": [
    "# df_news = pd.read_csv(\"analyst_ratings_processed.csv\")\n",
    "# df_news.head()"
   ]
  },
  {
   "cell_type": "code",
   "execution_count": null,
   "id": "766bd749",
   "metadata": {},
   "outputs": [
    {
     "data": {
      "text/html": [
       "<div>\n",
       "<style scoped>\n",
       "    .dataframe tbody tr th:only-of-type {\n",
       "        vertical-align: middle;\n",
       "    }\n",
       "\n",
       "    .dataframe tbody tr th {\n",
       "        vertical-align: top;\n",
       "    }\n",
       "\n",
       "    .dataframe thead th {\n",
       "        text-align: right;\n",
       "    }\n",
       "</style>\n",
       "<table border=\"1\" class=\"dataframe\">\n",
       "  <thead>\n",
       "    <tr style=\"text-align: right;\">\n",
       "      <th></th>\n",
       "      <th>title</th>\n",
       "      <th>stock</th>\n",
       "    </tr>\n",
       "    <tr>\n",
       "      <th>date</th>\n",
       "      <th></th>\n",
       "      <th></th>\n",
       "    </tr>\n",
       "  </thead>\n",
       "  <tbody>\n",
       "    <tr>\n",
       "      <th>2020-06-05 14:30:00+00:00</th>\n",
       "      <td>Stocks That Hit 52-Week Highs On Friday</td>\n",
       "      <td>A</td>\n",
       "    </tr>\n",
       "    <tr>\n",
       "      <th>2020-06-03 14:45:00+00:00</th>\n",
       "      <td>Stocks That Hit 52-Week Highs On Wednesday</td>\n",
       "      <td>A</td>\n",
       "    </tr>\n",
       "    <tr>\n",
       "      <th>2020-05-26 08:30:00+00:00</th>\n",
       "      <td>71 Biggest Movers From Friday</td>\n",
       "      <td>A</td>\n",
       "    </tr>\n",
       "    <tr>\n",
       "      <th>2020-05-22 16:45:00+00:00</th>\n",
       "      <td>46 Stocks Moving In Friday's Mid-Day Session</td>\n",
       "      <td>A</td>\n",
       "    </tr>\n",
       "    <tr>\n",
       "      <th>2020-05-22 15:38:00+00:00</th>\n",
       "      <td>B of A Securities Maintains Neutral on Agilent...</td>\n",
       "      <td>A</td>\n",
       "    </tr>\n",
       "  </tbody>\n",
       "</table>\n",
       "</div>"
      ],
      "text/plain": [
       "                                                                       title  \\\n",
       "date                                                                           \n",
       "2020-06-05 14:30:00+00:00            Stocks That Hit 52-Week Highs On Friday   \n",
       "2020-06-03 14:45:00+00:00         Stocks That Hit 52-Week Highs On Wednesday   \n",
       "2020-05-26 08:30:00+00:00                      71 Biggest Movers From Friday   \n",
       "2020-05-22 16:45:00+00:00       46 Stocks Moving In Friday's Mid-Day Session   \n",
       "2020-05-22 15:38:00+00:00  B of A Securities Maintains Neutral on Agilent...   \n",
       "\n",
       "                          stock  \n",
       "date                             \n",
       "2020-06-05 14:30:00+00:00     A  \n",
       "2020-06-03 14:45:00+00:00     A  \n",
       "2020-05-26 08:30:00+00:00     A  \n",
       "2020-05-22 16:45:00+00:00     A  \n",
       "2020-05-22 15:38:00+00:00     A  "
      ]
     },
     "execution_count": 7,
     "metadata": {},
     "output_type": "execute_result"
    }
   ],
   "source": [
    "# df_news = df_news.dropna(subset=['title'])  # doesn't seem necessary\n",
    "# del df_news['Unnamed: 0']  # this was the index\n",
    "# df_news['date'] = pd.to_datetime(df_news['date'], errors='coerce', utc=True)\n",
    "# df_news = df_news.dropna(subset=['date'])\n",
    "# df_news.set_index('date', inplace=True)\n",
    "# df_news.head()"
   ]
  },
  {
   "cell_type": "code",
   "execution_count": null,
   "id": "ba6fa1f7",
   "metadata": {},
   "outputs": [],
   "source": [
    "# df_news = df_news[df_news['stock'].isin(snp500_tickers)]\n"
   ]
  },
  {
   "cell_type": "code",
   "execution_count": null,
   "id": "91b1f2b8",
   "metadata": {},
   "outputs": [
    {
     "data": {
      "text/plain": [
       "((383051, 2), (619040, 6))"
      ]
     },
     "execution_count": 9,
     "metadata": {},
     "output_type": "execute_result"
    }
   ],
   "source": [
    "# df_news.shape, df_snp.shape"
   ]
  },
  {
   "cell_type": "code",
   "execution_count": null,
   "id": "f9692806",
   "metadata": {},
   "outputs": [
    {
     "data": {
      "text/plain": [
       "(Index(['open', 'high', 'low', 'close', 'volume', 'Name'], dtype='object'),\n",
       " Index(['title', 'stock'], dtype='object'))"
      ]
     },
     "execution_count": 10,
     "metadata": {},
     "output_type": "execute_result"
    }
   ],
   "source": [
    "# df_snp.columns, df_news.columns"
   ]
  },
  {
   "cell_type": "code",
   "execution_count": 3,
   "id": "a423c580",
   "metadata": {},
   "outputs": [],
   "source": [
    "sentiment_map = {'negative': -1, 'neutral': 0, 'positive': 1}\n",
    "df_finbert['sentiment'] = df_finbert['sentiment'].map(sentiment_map)\n",
    "df_finbert.drop(columns=['Unnamed: 0'], inplace=True)\n",
    "df_finbert['date'] = pd.to_datetime(df_finbert['date'], errors='coerce', utc=True)\n",
    "df_finbert.set_index('date', inplace=True)"
   ]
  },
  {
   "cell_type": "code",
   "execution_count": 4,
   "id": "778a2723",
   "metadata": {},
   "outputs": [
    {
     "data": {
      "text/html": [
       "<div>\n",
       "<style scoped>\n",
       "    .dataframe tbody tr th:only-of-type {\n",
       "        vertical-align: middle;\n",
       "    }\n",
       "\n",
       "    .dataframe tbody tr th {\n",
       "        vertical-align: top;\n",
       "    }\n",
       "\n",
       "    .dataframe thead th {\n",
       "        text-align: right;\n",
       "    }\n",
       "</style>\n",
       "<table border=\"1\" class=\"dataframe\">\n",
       "  <thead>\n",
       "    <tr style=\"text-align: right;\">\n",
       "      <th></th>\n",
       "      <th>title</th>\n",
       "      <th>stock</th>\n",
       "      <th>sentiment</th>\n",
       "    </tr>\n",
       "    <tr>\n",
       "      <th>date</th>\n",
       "      <th></th>\n",
       "      <th></th>\n",
       "      <th></th>\n",
       "    </tr>\n",
       "  </thead>\n",
       "  <tbody>\n",
       "    <tr>\n",
       "      <th>2020-06-05 14:30:00+00:00</th>\n",
       "      <td>Stocks That Hit 52-Week Highs On Friday</td>\n",
       "      <td>A</td>\n",
       "      <td>0</td>\n",
       "    </tr>\n",
       "    <tr>\n",
       "      <th>2020-06-03 14:45:00+00:00</th>\n",
       "      <td>Stocks That Hit 52-Week Highs On Wednesday</td>\n",
       "      <td>A</td>\n",
       "      <td>0</td>\n",
       "    </tr>\n",
       "    <tr>\n",
       "      <th>2020-05-26 08:30:00+00:00</th>\n",
       "      <td>71 Biggest Movers From Friday</td>\n",
       "      <td>A</td>\n",
       "      <td>0</td>\n",
       "    </tr>\n",
       "    <tr>\n",
       "      <th>2020-05-22 16:45:00+00:00</th>\n",
       "      <td>46 Stocks Moving In Friday's Mid-Day Session</td>\n",
       "      <td>A</td>\n",
       "      <td>0</td>\n",
       "    </tr>\n",
       "    <tr>\n",
       "      <th>2020-05-22 15:38:00+00:00</th>\n",
       "      <td>B of A Securities Maintains Neutral on Agilent...</td>\n",
       "      <td>A</td>\n",
       "      <td>1</td>\n",
       "    </tr>\n",
       "  </tbody>\n",
       "</table>\n",
       "</div>"
      ],
      "text/plain": [
       "                                                                       title  \\\n",
       "date                                                                           \n",
       "2020-06-05 14:30:00+00:00            Stocks That Hit 52-Week Highs On Friday   \n",
       "2020-06-03 14:45:00+00:00         Stocks That Hit 52-Week Highs On Wednesday   \n",
       "2020-05-26 08:30:00+00:00                      71 Biggest Movers From Friday   \n",
       "2020-05-22 16:45:00+00:00       46 Stocks Moving In Friday's Mid-Day Session   \n",
       "2020-05-22 15:38:00+00:00  B of A Securities Maintains Neutral on Agilent...   \n",
       "\n",
       "                          stock  sentiment  \n",
       "date                                        \n",
       "2020-06-05 14:30:00+00:00     A          0  \n",
       "2020-06-03 14:45:00+00:00     A          0  \n",
       "2020-05-26 08:30:00+00:00     A          0  \n",
       "2020-05-22 16:45:00+00:00     A          0  \n",
       "2020-05-22 15:38:00+00:00     A          1  "
      ]
     },
     "execution_count": 4,
     "metadata": {},
     "output_type": "execute_result"
    }
   ],
   "source": [
    "df_finbert.head()"
   ]
  },
  {
   "cell_type": "code",
   "execution_count": 21,
   "id": "9b82c1fc",
   "metadata": {},
   "outputs": [],
   "source": [
    "df_finbert2 = df_finbert.groupby(['date', 'stock']).agg(\n",
    "    sentiment_avg=('sentiment', 'mean'),\n",
    "    sentiment_list=('sentiment', lambda s: list(s)),\n",
    "    titles=('title', lambda t: list(t))\n",
    ").reset_index()"
   ]
  },
  {
   "cell_type": "code",
   "execution_count": 22,
   "id": "89208fa7",
   "metadata": {},
   "outputs": [
    {
     "data": {
      "text/html": [
       "<div>\n",
       "<style scoped>\n",
       "    .dataframe tbody tr th:only-of-type {\n",
       "        vertical-align: middle;\n",
       "    }\n",
       "\n",
       "    .dataframe tbody tr th {\n",
       "        vertical-align: top;\n",
       "    }\n",
       "\n",
       "    .dataframe thead th {\n",
       "        text-align: right;\n",
       "    }\n",
       "</style>\n",
       "<table border=\"1\" class=\"dataframe\">\n",
       "  <thead>\n",
       "    <tr style=\"text-align: right;\">\n",
       "      <th></th>\n",
       "      <th>date</th>\n",
       "      <th>stock</th>\n",
       "      <th>sentiment_avg</th>\n",
       "      <th>sentiment_list</th>\n",
       "      <th>titles</th>\n",
       "    </tr>\n",
       "  </thead>\n",
       "  <tbody>\n",
       "    <tr>\n",
       "      <th>0</th>\n",
       "      <td>2009-04-29 12:48:00+00:00</td>\n",
       "      <td>A</td>\n",
       "      <td>0.0</td>\n",
       "      <td>[0]</td>\n",
       "      <td>[Going Against the Herd]</td>\n",
       "    </tr>\n",
       "    <tr>\n",
       "      <th>1</th>\n",
       "      <td>2009-05-28 01:35:00+00:00</td>\n",
       "      <td>RF</td>\n",
       "      <td>0.0</td>\n",
       "      <td>[0]</td>\n",
       "      <td>[MRM a $15-$20+ stock - FIT new information - ...</td>\n",
       "    </tr>\n",
       "    <tr>\n",
       "      <th>2</th>\n",
       "      <td>2009-06-02 02:15:00+00:00</td>\n",
       "      <td>A</td>\n",
       "      <td>0.0</td>\n",
       "      <td>[0]</td>\n",
       "      <td>[super-trades - Two 52 week highs and others a...</td>\n",
       "    </tr>\n",
       "    <tr>\n",
       "      <th>3</th>\n",
       "      <td>2009-06-16 12:14:00+00:00</td>\n",
       "      <td>M</td>\n",
       "      <td>1.0</td>\n",
       "      <td>[1]</td>\n",
       "      <td>[AIM Great News the Day After Great Earnings]</td>\n",
       "    </tr>\n",
       "    <tr>\n",
       "      <th>4</th>\n",
       "      <td>2009-06-20 02:44:00+00:00</td>\n",
       "      <td>ADS</td>\n",
       "      <td>0.0</td>\n",
       "      <td>[0]</td>\n",
       "      <td>[Review of 3 Chinese IPO's- Week of June 22nd]</td>\n",
       "    </tr>\n",
       "  </tbody>\n",
       "</table>\n",
       "</div>"
      ],
      "text/plain": [
       "                       date stock  sentiment_avg sentiment_list  \\\n",
       "0 2009-04-29 12:48:00+00:00     A            0.0            [0]   \n",
       "1 2009-05-28 01:35:00+00:00    RF            0.0            [0]   \n",
       "2 2009-06-02 02:15:00+00:00     A            0.0            [0]   \n",
       "3 2009-06-16 12:14:00+00:00     M            1.0            [1]   \n",
       "4 2009-06-20 02:44:00+00:00   ADS            0.0            [0]   \n",
       "\n",
       "                                              titles  \n",
       "0                           [Going Against the Herd]  \n",
       "1  [MRM a $15-$20+ stock - FIT new information - ...  \n",
       "2  [super-trades - Two 52 week highs and others a...  \n",
       "3      [AIM Great News the Day After Great Earnings]  \n",
       "4     [Review of 3 Chinese IPO's- Week of June 22nd]  "
      ]
     },
     "execution_count": 22,
     "metadata": {},
     "output_type": "execute_result"
    }
   ],
   "source": [
    "# could be useful but we don't have enough data to justify it...\n",
    "df_finbert2.head()"
   ]
  },
  {
   "cell_type": "code",
   "execution_count": 6,
   "id": "ffbd473d",
   "metadata": {},
   "outputs": [
    {
     "data": {
      "text/html": [
       "<div>\n",
       "<style scoped>\n",
       "    .dataframe tbody tr th:only-of-type {\n",
       "        vertical-align: middle;\n",
       "    }\n",
       "\n",
       "    .dataframe tbody tr th {\n",
       "        vertical-align: top;\n",
       "    }\n",
       "\n",
       "    .dataframe thead th {\n",
       "        text-align: right;\n",
       "    }\n",
       "</style>\n",
       "<table border=\"1\" class=\"dataframe\">\n",
       "  <thead>\n",
       "    <tr style=\"text-align: right;\">\n",
       "      <th></th>\n",
       "      <th>open</th>\n",
       "      <th>high</th>\n",
       "      <th>low</th>\n",
       "      <th>close</th>\n",
       "      <th>volume</th>\n",
       "      <th>Name</th>\n",
       "      <th>daily_variation</th>\n",
       "      <th>daily_return</th>\n",
       "      <th>sma_7</th>\n",
       "      <th>std_7</th>\n",
       "      <th>...</th>\n",
       "      <th>prev_high</th>\n",
       "      <th>prev_low</th>\n",
       "      <th>prev_close</th>\n",
       "      <th>atr</th>\n",
       "      <th>smoothed_plus_dm</th>\n",
       "      <th>smoothed_minus_dm</th>\n",
       "      <th>dx</th>\n",
       "      <th>adx</th>\n",
       "      <th>label_3</th>\n",
       "      <th>label_7</th>\n",
       "    </tr>\n",
       "    <tr>\n",
       "      <th>date</th>\n",
       "      <th></th>\n",
       "      <th></th>\n",
       "      <th></th>\n",
       "      <th></th>\n",
       "      <th></th>\n",
       "      <th></th>\n",
       "      <th></th>\n",
       "      <th></th>\n",
       "      <th></th>\n",
       "      <th></th>\n",
       "      <th></th>\n",
       "      <th></th>\n",
       "      <th></th>\n",
       "      <th></th>\n",
       "      <th></th>\n",
       "      <th></th>\n",
       "      <th></th>\n",
       "      <th></th>\n",
       "      <th></th>\n",
       "      <th></th>\n",
       "      <th></th>\n",
       "    </tr>\n",
       "  </thead>\n",
       "  <tbody>\n",
       "    <tr>\n",
       "      <th>2018-02-07</th>\n",
       "      <td>72.70</td>\n",
       "      <td>75.00</td>\n",
       "      <td>72.69</td>\n",
       "      <td>73.86</td>\n",
       "      <td>4534912</td>\n",
       "      <td>ZTS</td>\n",
       "      <td>0.031774</td>\n",
       "      <td>0.008052</td>\n",
       "      <td>75.112</td>\n",
       "      <td>2.044473</td>\n",
       "      <td>...</td>\n",
       "      <td>74.56</td>\n",
       "      <td>72.13</td>\n",
       "      <td>73.27</td>\n",
       "      <td>1.496558</td>\n",
       "      <td>15.160426</td>\n",
       "      <td>44.300618</td>\n",
       "      <td>49.007198</td>\n",
       "      <td>43.943384</td>\n",
       "      <td>hold</td>\n",
       "      <td>hold</td>\n",
       "    </tr>\n",
       "    <tr>\n",
       "      <th>2018-02-06</th>\n",
       "      <td>72.74</td>\n",
       "      <td>74.56</td>\n",
       "      <td>72.13</td>\n",
       "      <td>73.27</td>\n",
       "      <td>4924323</td>\n",
       "      <td>ZTS</td>\n",
       "      <td>0.033407</td>\n",
       "      <td>-0.007585</td>\n",
       "      <td>75.686</td>\n",
       "      <td>2.007643</td>\n",
       "      <td>...</td>\n",
       "      <td>76.92</td>\n",
       "      <td>73.18</td>\n",
       "      <td>73.83</td>\n",
       "      <td>1.433986</td>\n",
       "      <td>13.535533</td>\n",
       "      <td>53.346566</td>\n",
       "      <td>59.524197</td>\n",
       "      <td>43.164336</td>\n",
       "      <td>hold</td>\n",
       "      <td>hold</td>\n",
       "    </tr>\n",
       "    <tr>\n",
       "      <th>2018-02-05</th>\n",
       "      <td>76.64</td>\n",
       "      <td>76.92</td>\n",
       "      <td>73.18</td>\n",
       "      <td>73.83</td>\n",
       "      <td>2962031</td>\n",
       "      <td>ZTS</td>\n",
       "      <td>0.048800</td>\n",
       "      <td>-0.038421</td>\n",
       "      <td>76.702</td>\n",
       "      <td>1.747933</td>\n",
       "      <td>...</td>\n",
       "      <td>78.12</td>\n",
       "      <td>76.73</td>\n",
       "      <td>76.78</td>\n",
       "      <td>1.357369</td>\n",
       "      <td>16.499474</td>\n",
       "      <td>53.127271</td>\n",
       "      <td>52.605930</td>\n",
       "      <td>40.647434</td>\n",
       "      <td>hold</td>\n",
       "      <td>hold</td>\n",
       "    </tr>\n",
       "    <tr>\n",
       "      <th>2018-02-02</th>\n",
       "      <td>77.53</td>\n",
       "      <td>78.12</td>\n",
       "      <td>76.73</td>\n",
       "      <td>76.78</td>\n",
       "      <td>2595187</td>\n",
       "      <td>ZTS</td>\n",
       "      <td>0.017929</td>\n",
       "      <td>-0.013364</td>\n",
       "      <td>77.772</td>\n",
       "      <td>1.047459</td>\n",
       "      <td>...</td>\n",
       "      <td>78.27</td>\n",
       "      <td>76.69</td>\n",
       "      <td>77.82</td>\n",
       "      <td>1.174090</td>\n",
       "      <td>22.009727</td>\n",
       "      <td>24.352728</td>\n",
       "      <td>5.053662</td>\n",
       "      <td>38.807666</td>\n",
       "      <td>sell</td>\n",
       "      <td>hold</td>\n",
       "    </tr>\n",
       "    <tr>\n",
       "      <th>2018-02-01</th>\n",
       "      <td>76.84</td>\n",
       "      <td>78.27</td>\n",
       "      <td>76.69</td>\n",
       "      <td>77.82</td>\n",
       "      <td>2982259</td>\n",
       "      <td>ZTS</td>\n",
       "      <td>0.020562</td>\n",
       "      <td>0.014206</td>\n",
       "      <td>78.434</td>\n",
       "      <td>1.283211</td>\n",
       "      <td>...</td>\n",
       "      <td>78.77</td>\n",
       "      <td>76.54</td>\n",
       "      <td>76.73</td>\n",
       "      <td>1.157481</td>\n",
       "      <td>25.760238</td>\n",
       "      <td>28.502493</td>\n",
       "      <td>5.053662</td>\n",
       "      <td>44.000589</td>\n",
       "      <td>sell</td>\n",
       "      <td>hold</td>\n",
       "    </tr>\n",
       "  </tbody>\n",
       "</table>\n",
       "<p>5 rows × 30 columns</p>\n",
       "</div>"
      ],
      "text/plain": [
       "             open   high    low  close   volume Name  daily_variation  \\\n",
       "date                                                                    \n",
       "2018-02-07  72.70  75.00  72.69  73.86  4534912  ZTS         0.031774   \n",
       "2018-02-06  72.74  74.56  72.13  73.27  4924323  ZTS         0.033407   \n",
       "2018-02-05  76.64  76.92  73.18  73.83  2962031  ZTS         0.048800   \n",
       "2018-02-02  77.53  78.12  76.73  76.78  2595187  ZTS         0.017929   \n",
       "2018-02-01  76.84  78.27  76.69  77.82  2982259  ZTS         0.020562   \n",
       "\n",
       "            daily_return   sma_7     std_7  ...  prev_high  prev_low  \\\n",
       "date                                        ...                        \n",
       "2018-02-07      0.008052  75.112  2.044473  ...      74.56     72.13   \n",
       "2018-02-06     -0.007585  75.686  2.007643  ...      76.92     73.18   \n",
       "2018-02-05     -0.038421  76.702  1.747933  ...      78.12     76.73   \n",
       "2018-02-02     -0.013364  77.772  1.047459  ...      78.27     76.69   \n",
       "2018-02-01      0.014206  78.434  1.283211  ...      78.77     76.54   \n",
       "\n",
       "            prev_close       atr  smoothed_plus_dm  smoothed_minus_dm  \\\n",
       "date                                                                    \n",
       "2018-02-07       73.27  1.496558         15.160426          44.300618   \n",
       "2018-02-06       73.83  1.433986         13.535533          53.346566   \n",
       "2018-02-05       76.78  1.357369         16.499474          53.127271   \n",
       "2018-02-02       77.82  1.174090         22.009727          24.352728   \n",
       "2018-02-01       76.73  1.157481         25.760238          28.502493   \n",
       "\n",
       "                   dx        adx  label_3  label_7  \n",
       "date                                                \n",
       "2018-02-07  49.007198  43.943384     hold     hold  \n",
       "2018-02-06  59.524197  43.164336     hold     hold  \n",
       "2018-02-05  52.605930  40.647434     hold     hold  \n",
       "2018-02-02   5.053662  38.807666     sell     hold  \n",
       "2018-02-01   5.053662  44.000589     sell     hold  \n",
       "\n",
       "[5 rows x 30 columns]"
      ]
     },
     "execution_count": 6,
     "metadata": {},
     "output_type": "execute_result"
    }
   ],
   "source": [
    "df_snp = pd.read_csv(\"stocks_with_indicators_labeled.csv\")\n",
    "df_snp['date'] = pd.to_datetime(df_snp['date'])\n",
    "df_snp.set_index('date', inplace=True)\n",
    "df_snp = df_snp.iloc[::-1]\n",
    "df_snp.head()"
   ]
  },
  {
   "cell_type": "code",
   "execution_count": 7,
   "id": "a531d7fe",
   "metadata": {},
   "outputs": [
    {
     "data": {
      "text/plain": [
       "Index(['open', 'high', 'low', 'close', 'volume', 'Name', 'daily_variation',\n",
       "       'daily_return', 'sma_7', 'std_7', 'ema_14', 'macd', 'macd_signal',\n",
       "       'cumulative_return', 'gain', 'loss', 'rsi', 'L14', 'H14',\n",
       "       'stochastic_oscillator', 'prev_high', 'prev_low', 'prev_close', 'atr',\n",
       "       'smoothed_plus_dm', 'smoothed_minus_dm', 'dx', 'adx', 'label_3',\n",
       "       'label_7'],\n",
       "      dtype='object')"
      ]
     },
     "execution_count": 7,
     "metadata": {},
     "output_type": "execute_result"
    }
   ],
   "source": [
    "df_snp.columns"
   ]
  },
  {
   "cell_type": "code",
   "execution_count": 8,
   "id": "1bf46635",
   "metadata": {},
   "outputs": [],
   "source": [
    "df_snp.rename(columns={'Name': 'stock'}, inplace=True)\n",
    "\n",
    "df_snp.index = pd.to_datetime(df_snp.index).tz_localize('UTC').date\n",
    "df_finbert.index = pd.to_datetime(df_finbert.index).date\n",
    "\n",
    "df_snp = df_snp.reset_index().rename(columns={'index': 'date'})\n",
    "df_finbert = df_finbert.reset_index().rename(columns={'index': 'date'})\n"
   ]
  },
  {
   "cell_type": "code",
   "execution_count": 9,
   "id": "349ce269",
   "metadata": {},
   "outputs": [
    {
     "data": {
      "text/plain": [
       "(Index(['date', 'title', 'stock', 'sentiment'], dtype='object'),\n",
       " Index(['date', 'open', 'high', 'low', 'close', 'volume', 'stock',\n",
       "        'daily_variation', 'daily_return', 'sma_7', 'std_7', 'ema_14', 'macd',\n",
       "        'macd_signal', 'cumulative_return', 'gain', 'loss', 'rsi', 'L14', 'H14',\n",
       "        'stochastic_oscillator', 'prev_high', 'prev_low', 'prev_close', 'atr',\n",
       "        'smoothed_plus_dm', 'smoothed_minus_dm', 'dx', 'adx', 'label_3',\n",
       "        'label_7'],\n",
       "       dtype='object'))"
      ]
     },
     "execution_count": 9,
     "metadata": {},
     "output_type": "execute_result"
    }
   ],
   "source": [
    "df_finbert.columns, df_snp.columns"
   ]
  },
  {
   "cell_type": "code",
   "execution_count": 10,
   "id": "bcbae4f3",
   "metadata": {},
   "outputs": [],
   "source": [
    "df_merged = df_snp.merge(\n",
    "    df_finbert,\n",
    "    on=['date', 'stock'],\n",
    "    how='left'\n",
    ")"
   ]
  },
  {
   "cell_type": "code",
   "execution_count": 11,
   "id": "e2202613",
   "metadata": {},
   "outputs": [],
   "source": [
    "df_filled = df_merged[df_merged['title'].notna()]"
   ]
  },
  {
   "cell_type": "code",
   "execution_count": 14,
   "id": "e16d6d21",
   "metadata": {},
   "outputs": [
    {
     "data": {
      "text/html": [
       "<div>\n",
       "<style scoped>\n",
       "    .dataframe tbody tr th:only-of-type {\n",
       "        vertical-align: middle;\n",
       "    }\n",
       "\n",
       "    .dataframe tbody tr th {\n",
       "        vertical-align: top;\n",
       "    }\n",
       "\n",
       "    .dataframe thead th {\n",
       "        text-align: right;\n",
       "    }\n",
       "</style>\n",
       "<table border=\"1\" class=\"dataframe\">\n",
       "  <thead>\n",
       "    <tr style=\"text-align: right;\">\n",
       "      <th></th>\n",
       "      <th>date</th>\n",
       "      <th>open</th>\n",
       "      <th>high</th>\n",
       "      <th>low</th>\n",
       "      <th>close</th>\n",
       "      <th>volume</th>\n",
       "      <th>stock</th>\n",
       "      <th>daily_variation</th>\n",
       "      <th>daily_return</th>\n",
       "      <th>sma_7</th>\n",
       "      <th>...</th>\n",
       "      <th>prev_close</th>\n",
       "      <th>atr</th>\n",
       "      <th>smoothed_plus_dm</th>\n",
       "      <th>smoothed_minus_dm</th>\n",
       "      <th>dx</th>\n",
       "      <th>adx</th>\n",
       "      <th>label_3</th>\n",
       "      <th>label_7</th>\n",
       "      <th>title</th>\n",
       "      <th>sentiment</th>\n",
       "    </tr>\n",
       "  </thead>\n",
       "  <tbody>\n",
       "    <tr>\n",
       "      <th>21</th>\n",
       "      <td>2018-01-08</td>\n",
       "      <td>73.43</td>\n",
       "      <td>74.42</td>\n",
       "      <td>73.1607</td>\n",
       "      <td>74.24</td>\n",
       "      <td>3631552</td>\n",
       "      <td>ZTS</td>\n",
       "      <td>0.017150</td>\n",
       "      <td>0.011996</td>\n",
       "      <td>72.800</td>\n",
       "      <td>...</td>\n",
       "      <td>73.36</td>\n",
       "      <td>0.912534</td>\n",
       "      <td>38.015833</td>\n",
       "      <td>11.880737</td>\n",
       "      <td>52.378540</td>\n",
       "      <td>31.919869</td>\n",
       "      <td>hold</td>\n",
       "      <td>hold</td>\n",
       "      <td>Zoetis 8-K Shows Expectation For Net Reduction...</td>\n",
       "      <td>0.0</td>\n",
       "    </tr>\n",
       "    <tr>\n",
       "      <th>32</th>\n",
       "      <td>2017-12-20</td>\n",
       "      <td>72.84</td>\n",
       "      <td>73.16</td>\n",
       "      <td>72.1700</td>\n",
       "      <td>72.71</td>\n",
       "      <td>1806257</td>\n",
       "      <td>ZTS</td>\n",
       "      <td>0.013591</td>\n",
       "      <td>-0.001236</td>\n",
       "      <td>72.372</td>\n",
       "      <td>...</td>\n",
       "      <td>72.80</td>\n",
       "      <td>0.937602</td>\n",
       "      <td>31.276152</td>\n",
       "      <td>15.671608</td>\n",
       "      <td>33.238100</td>\n",
       "      <td>49.148129</td>\n",
       "      <td>hold</td>\n",
       "      <td>hold</td>\n",
       "      <td>Zoetis Spikes to High of $73.08 on Volume; Act...</td>\n",
       "      <td>0.0</td>\n",
       "    </tr>\n",
       "    <tr>\n",
       "      <th>38</th>\n",
       "      <td>2017-12-12</td>\n",
       "      <td>71.77</td>\n",
       "      <td>72.66</td>\n",
       "      <td>71.6400</td>\n",
       "      <td>72.23</td>\n",
       "      <td>1939851</td>\n",
       "      <td>ZTS</td>\n",
       "      <td>0.014212</td>\n",
       "      <td>0.006409</td>\n",
       "      <td>71.698</td>\n",
       "      <td>...</td>\n",
       "      <td>71.77</td>\n",
       "      <td>0.944406</td>\n",
       "      <td>32.576498</td>\n",
       "      <td>7.858200</td>\n",
       "      <td>61.131401</td>\n",
       "      <td>53.054097</td>\n",
       "      <td>hold</td>\n",
       "      <td>hold</td>\n",
       "      <td>Zoetis Launches Vanguard CIV H3N2/H3N8 Vaccine...</td>\n",
       "      <td>0.0</td>\n",
       "    </tr>\n",
       "    <tr>\n",
       "      <th>39</th>\n",
       "      <td>2017-12-11</td>\n",
       "      <td>71.84</td>\n",
       "      <td>71.97</td>\n",
       "      <td>71.5200</td>\n",
       "      <td>71.77</td>\n",
       "      <td>1172513</td>\n",
       "      <td>ZTS</td>\n",
       "      <td>0.006264</td>\n",
       "      <td>-0.001530</td>\n",
       "      <td>71.422</td>\n",
       "      <td>...</td>\n",
       "      <td>71.88</td>\n",
       "      <td>0.938591</td>\n",
       "      <td>26.511224</td>\n",
       "      <td>9.123329</td>\n",
       "      <td>48.795041</td>\n",
       "      <td>51.811435</td>\n",
       "      <td>hold</td>\n",
       "      <td>hold</td>\n",
       "      <td>Zoetis Raises Qtr. Dividend From $.105/Share T...</td>\n",
       "      <td>1.0</td>\n",
       "    </tr>\n",
       "    <tr>\n",
       "      <th>47</th>\n",
       "      <td>2017-11-29</td>\n",
       "      <td>71.99</td>\n",
       "      <td>72.10</td>\n",
       "      <td>71.2800</td>\n",
       "      <td>71.61</td>\n",
       "      <td>1618690</td>\n",
       "      <td>ZTS</td>\n",
       "      <td>0.011390</td>\n",
       "      <td>0.003082</td>\n",
       "      <td>71.380</td>\n",
       "      <td>...</td>\n",
       "      <td>71.39</td>\n",
       "      <td>0.925980</td>\n",
       "      <td>34.266185</td>\n",
       "      <td>4.607591</td>\n",
       "      <td>76.294604</td>\n",
       "      <td>60.906298</td>\n",
       "      <td>hold</td>\n",
       "      <td>hold</td>\n",
       "      <td>Analyst: Zoetis Deserves To Trade At A Premium</td>\n",
       "      <td>0.0</td>\n",
       "    </tr>\n",
       "  </tbody>\n",
       "</table>\n",
       "<p>5 rows × 33 columns</p>\n",
       "</div>"
      ],
      "text/plain": [
       "          date   open   high      low  close   volume stock  daily_variation  \\\n",
       "21  2018-01-08  73.43  74.42  73.1607  74.24  3631552   ZTS         0.017150   \n",
       "32  2017-12-20  72.84  73.16  72.1700  72.71  1806257   ZTS         0.013591   \n",
       "38  2017-12-12  71.77  72.66  71.6400  72.23  1939851   ZTS         0.014212   \n",
       "39  2017-12-11  71.84  71.97  71.5200  71.77  1172513   ZTS         0.006264   \n",
       "47  2017-11-29  71.99  72.10  71.2800  71.61  1618690   ZTS         0.011390   \n",
       "\n",
       "    daily_return   sma_7  ...  prev_close       atr  smoothed_plus_dm  \\\n",
       "21      0.011996  72.800  ...       73.36  0.912534         38.015833   \n",
       "32     -0.001236  72.372  ...       72.80  0.937602         31.276152   \n",
       "38      0.006409  71.698  ...       71.77  0.944406         32.576498   \n",
       "39     -0.001530  71.422  ...       71.88  0.938591         26.511224   \n",
       "47      0.003082  71.380  ...       71.39  0.925980         34.266185   \n",
       "\n",
       "    smoothed_minus_dm         dx        adx  label_3  label_7  \\\n",
       "21          11.880737  52.378540  31.919869     hold     hold   \n",
       "32          15.671608  33.238100  49.148129     hold     hold   \n",
       "38           7.858200  61.131401  53.054097     hold     hold   \n",
       "39           9.123329  48.795041  51.811435     hold     hold   \n",
       "47           4.607591  76.294604  60.906298     hold     hold   \n",
       "\n",
       "                                                title  sentiment  \n",
       "21  Zoetis 8-K Shows Expectation For Net Reduction...        0.0  \n",
       "32  Zoetis Spikes to High of $73.08 on Volume; Act...        0.0  \n",
       "38  Zoetis Launches Vanguard CIV H3N2/H3N8 Vaccine...        0.0  \n",
       "39  Zoetis Raises Qtr. Dividend From $.105/Share T...        1.0  \n",
       "47     Analyst: Zoetis Deserves To Trade At A Premium        0.0  \n",
       "\n",
       "[5 rows x 33 columns]"
      ]
     },
     "execution_count": 14,
     "metadata": {},
     "output_type": "execute_result"
    }
   ],
   "source": [
    "df_filled.head()"
   ]
  },
  {
   "cell_type": "code",
   "execution_count": 13,
   "id": "dcdae08e",
   "metadata": {},
   "outputs": [
    {
     "name": "stdout",
     "output_type": "stream",
     "text": [
      "count     392.000000\n",
      "mean      412.696429\n",
      "std       348.523091\n",
      "min         1.000000\n",
      "25%       179.000000\n",
      "50%       297.000000\n",
      "75%       495.000000\n",
      "max      1984.000000\n",
      "Name: count, dtype: float64\n"
     ]
    }
   ],
   "source": [
    "stock_counts = df_filled['stock'].value_counts()\n",
    "print(stock_counts.describe())\n"
   ]
  },
  {
   "cell_type": "code",
   "execution_count": 15,
   "id": "6dbedd2b",
   "metadata": {},
   "outputs": [],
   "source": [
    "df_filled.to_csv('combined_data.csv', index=False)\n"
   ]
  },
  {
   "cell_type": "code",
   "execution_count": 18,
   "id": "9bac1f68",
   "metadata": {},
   "outputs": [],
   "source": [
    "from sklearn.model_selection import train_test_split"
   ]
  },
  {
   "cell_type": "code",
   "execution_count": 19,
   "id": "0fd9195f",
   "metadata": {},
   "outputs": [
    {
     "name": "stdout",
     "output_type": "stream",
     "text": [
      "Train: 113239, Val: 24271, Test: 24267\n"
     ]
    }
   ],
   "source": [
    "train_val_df, test_df = train_test_split(df_filled, test_size=0.15, random_state=42, shuffle=True)\n",
    "train_df, val_df = train_test_split(train_val_df, test_size=0.1765, random_state=42, shuffle=True)  # 0.1765 * 0.85 = 0.15\n",
    "print(f\"Train: {len(train_df)}, Val: {len(val_df)}, Test: {len(test_df)}\")"
   ]
  },
  {
   "cell_type": "code",
   "execution_count": 20,
   "id": "3850e1ae",
   "metadata": {},
   "outputs": [],
   "source": [
    "train_df.to_csv('training_data.csv', index=False)\n",
    "val_df.to_csv('validation_data.csv', index=False)\n",
    "test_df.to_csv('testing_data.csv', index=False)"
   ]
  },
  {
   "cell_type": "code",
   "execution_count": 21,
   "id": "b40e7854",
   "metadata": {},
   "outputs": [
    {
     "data": {
      "text/plain": [
       "Index(['date', 'open', 'high', 'low', 'close', 'volume', 'stock',\n",
       "       'daily_variation', 'daily_return', 'sma_7', 'std_7', 'ema_14', 'macd',\n",
       "       'macd_signal', 'cumulative_return', 'gain', 'loss', 'rsi', 'L14', 'H14',\n",
       "       'stochastic_oscillator', 'prev_high', 'prev_low', 'prev_close', 'atr',\n",
       "       'smoothed_plus_dm', 'smoothed_minus_dm', 'dx', 'adx', 'label_3',\n",
       "       'label_7', 'title', 'sentiment'],\n",
       "      dtype='object')"
      ]
     },
     "execution_count": 21,
     "metadata": {},
     "output_type": "execute_result"
    }
   ],
   "source": [
    "test_df.columns"
   ]
  },
  {
   "cell_type": "code",
   "execution_count": 22,
   "id": "af546e6d",
   "metadata": {},
   "outputs": [
    {
     "data": {
      "text/plain": [
       "label_3\n",
       "hold    85371\n",
       "buy     15021\n",
       "sell    12847\n",
       "Name: count, dtype: int64"
      ]
     },
     "execution_count": 22,
     "metadata": {},
     "output_type": "execute_result"
    }
   ],
   "source": [
    "train_df['label_3'].value_counts()"
   ]
  },
  {
   "cell_type": "code",
   "execution_count": 24,
   "id": "4030d69c",
   "metadata": {},
   "outputs": [
    {
     "data": {
      "text/plain": [
       "label_7\n",
       "hold    75547\n",
       "buy     20855\n",
       "sell    16837\n",
       "Name: count, dtype: int64"
      ]
     },
     "execution_count": 24,
     "metadata": {},
     "output_type": "execute_result"
    }
   ],
   "source": [
    "train_df['label_7'].value_counts()"
   ]
  },
  {
   "cell_type": "code",
   "execution_count": 30,
   "id": "9fb61c58",
   "metadata": {},
   "outputs": [
    {
     "data": {
      "text/plain": [
       "[datetime.date(2015, 3, 2),\n",
       " 211.96,\n",
       " 217.0,\n",
       " 211.96,\n",
       " 215.0,\n",
       " 732621,\n",
       " 'WHR',\n",
       " 0.0237780713342139,\n",
       " 0.0143901863647086,\n",
       " 213.64,\n",
       " 1.2356172546792172,\n",
       " 212.8283613438811,\n",
       " -0.0002575667142407,\n",
       " -0.0005904783303516,\n",
       " 100.33544539694373,\n",
       " 0.0143901863647086,\n",
       " 0.0,\n",
       " 76.6809156016469,\n",
       " 205.33,\n",
       " 217.0,\n",
       " 82.86203941730932,\n",
       " 213.96,\n",
       " 211.254,\n",
       " 211.95,\n",
       " 4.0170701728355525,\n",
       " 23.95644322958968,\n",
       " 9.195249497337866,\n",
       " 44.5262142534942,\n",
       " 36.58629173341652,\n",
       " 'hold',\n",
       " 'sell',\n",
       " 'Top Performing Industries For March 2, 2015',\n",
       " 0.0]"
      ]
     },
     "execution_count": 30,
     "metadata": {},
     "output_type": "execute_result"
    }
   ],
   "source": [
    "train_df.iloc[1].tolist()"
   ]
  }
 ],
 "metadata": {
  "kernelspec": {
   "display_name": "base",
   "language": "python",
   "name": "python3"
  },
  "language_info": {
   "codemirror_mode": {
    "name": "ipython",
    "version": 3
   },
   "file_extension": ".py",
   "mimetype": "text/x-python",
   "name": "python",
   "nbconvert_exporter": "python",
   "pygments_lexer": "ipython3",
   "version": "3.12.3"
  }
 },
 "nbformat": 4,
 "nbformat_minor": 5
}
