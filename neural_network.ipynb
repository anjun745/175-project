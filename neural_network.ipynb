{
 "cells": [
  {
   "cell_type": "code",
   "execution_count": 1,
   "id": "62fb1715",
   "metadata": {},
   "outputs": [],
   "source": [
    "import pandas as pd\n",
    "import numpy as np\n",
    "import torch\n",
    "import torch.nn as nn"
   ]
  },
  {
   "cell_type": "code",
   "execution_count": null,
   "id": "9470cea3",
   "metadata": {},
   "outputs": [],
   "source": [
    "class StockFeedforwardNN(nn.Module):\n",
    "    def __init__(self, \n",
    "                 vocab_size,  # news article titles\n",
    "                 news_embed_dim=128,\n",
    "                 stock_vocab_size=400,  # stock name, might be too big?\n",
    "                 stock_embed_dim=16,\n",
    "                 num_numeric_features=20, # for numeric features, open, close, etc\n",
    "                 hidden_size=256):\n",
    "        super(StockFeedforwardNN, self).__init__()\n",
    "\n",
    "        self.news_embed = nn.EmbeddingBag(vocab_size, news_embed_dim, mode='mean')  # mean pooling\n",
    "        self.stock_embed = nn.Embedding(stock_vocab_size, stock_embed_dim)\n",
    "\n",
    "        total_input_size = news_embed_dim + stock_embed_dim + num_numeric_features\n",
    "\n",
    "        self.net = nn.Sequential(\n",
    "            nn.Linear(total_input_size, hidden_size),\n",
    "            nn.BatchNorm1d(hidden_size),\n",
    "            nn.ReLU(),\n",
    "            nn.Dropout(0.2),\n",
    "            nn.Linear(hidden_size, hidden_size // 2),\n",
    "            nn.BatchNorm1d(hidden_size // 2),\n",
    "            nn.ReLU(),\n",
    "            nn.Dropout(0.2),\n",
    "            nn.Linear(hidden_size // 2, 1)\n",
    "        )\n",
    "\n",
    "    def forward(self, news_input, news_offsets, stock_id, numeric_feats):\n",
    "        news_vec = self.news_embed(news_input, news_offsets)\n",
    "        stock_vec = self.stock_embed(stock_id)\n",
    "        x = torch.cat([news_vec, stock_vec, numeric_feats], dim=1)\n",
    "        return self.net(x)"
   ]
  }
 ],
 "metadata": {
  "kernelspec": {
   "display_name": "cs178",
   "language": "python",
   "name": "python3"
  },
  "language_info": {
   "codemirror_mode": {
    "name": "ipython",
    "version": 3
   },
   "file_extension": ".py",
   "mimetype": "text/x-python",
   "name": "python",
   "nbconvert_exporter": "python",
   "pygments_lexer": "ipython3",
   "version": "3.10.16"
  }
 },
 "nbformat": 4,
 "nbformat_minor": 5
}
