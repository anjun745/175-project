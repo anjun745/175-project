{
 "cells": [
  {
   "cell_type": "code",
   "execution_count": 1,
   "id": "60cc49ff-ea3e-482a-b35e-9b6c2456adb3",
   "metadata": {},
   "outputs": [],
   "source": [
    "\"\"\"Module imports\"\"\"\n",
    "import pandas as pd\n",
    "import numpy as np\n",
    "import matplotlib.pyplot as plt\n",
    "\n",
    "import scipy\n",
    "from sklearn.linear_model import LogisticRegression\n",
    "from sklearn.metrics import accuracy_score\n",
    "from sklearn import metrics\n",
    "from sklearn.utils import resample\n",
    "from sklearn.preprocessing import OneHotEncoder, LabelEncoder, StandardScaler\n",
    "from sklearn.model_selection import train_test_split\n",
    "\n",
    "seed = 42"
   ]
  },
  {
   "cell_type": "code",
   "execution_count": 2,
   "id": "dcf0844a-d623-4675-b9af-f0f02fab2c9e",
   "metadata": {},
   "outputs": [],
   "source": [
    "\"\"\"Train/test/validation data preparation for label_3\"\"\"\n",
    "\n",
    "# For the sake of my current sanity the model does NOT have any strings in it\n",
    "\n",
    "df = pd.read_csv('training_data.csv')\n",
    "df = df.drop(columns=['title', 'label_7']) # no label_7 here\n",
    "df['stock_id'] = LabelEncoder().fit_transform(df['stock'])\n",
    "df = df.drop(columns=['stock'])\n",
    "\n",
    "df = df.sort_values(['stock_id', 'date'])\n",
    "df['prev_close'] = df.groupby('stock_id')['close'].shift(1)\n",
    "df = df.drop(columns=['date'])\n",
    "df.replace([np.inf, -np.inf], np.nan, inplace=True)\n",
    "df.dropna(inplace=True)\n",
    "\n",
    "def sort_by_stock_and_time(df, train_size = 0.15, val_size = 0.15, test_size = 0.7):\n",
    "    train_stocks = []\n",
    "    val_stocks = []\n",
    "    test_stocks = []\n",
    "\n",
    "    for stock in df['stock_id'].unique():\n",
    "        stock_df = df[df['stock_id'] == stock]\n",
    "        n = len(stock_df)\n",
    "        train_end = int(n * train_size)\n",
    "        val_end = int(n * val_size)\n",
    "        test_end = int(n * test_size)\n",
    "        \n",
    "        train_stocks.append(stock_df.iloc[:train_end])\n",
    "        val_stocks.append(stock_df.iloc[train_end:train_end + val_end])\n",
    "        test_stocks.append(stock_df.iloc[train_end + val_end:])\n",
    "        \n",
    "    train_df = pd.concat(train_stocks).reset_index(drop=True)\n",
    "    val_df = pd.concat(val_stocks).reset_index(drop=True)\n",
    "    test_df = pd.concat(test_stocks).reset_index(drop=True)\n",
    "    \n",
    "    return train_df, val_df, test_df\n",
    "\n",
    "train_df, val_df, test_df = sort_by_stock_and_time(df)\n",
    "\n",
    "# Separate features and target for each set\n",
    "X_train = train_df.drop(columns=['label_3'])\n",
    "y_train = train_df['label_3']\n",
    "\n",
    "X_val = val_df.drop(columns=['label_3'])\n",
    "y_val = val_df['label_3']\n",
    "\n",
    "X_test = test_df.drop(columns=['label_3'])\n",
    "y_test = test_df['label_3']"
   ]
  },
  {
   "cell_type": "code",
   "execution_count": 3,
   "id": "eedfd495-adba-4ecc-9821-b8d952439a69",
   "metadata": {},
   "outputs": [
    {
     "name": "stderr",
     "output_type": "stream",
     "text": [
      "/opt/conda/lib/python3.12/site-packages/sklearn/linear_model/_sag.py:348: ConvergenceWarning: The max_iter was reached which means the coef_ did not converge\n",
      "  warnings.warn(\n"
     ]
    }
   ],
   "source": [
    "\"\"\"Logistic Regression, solver = 'sag', penalty = 'l2', max_iter=2000, random_state=seed, class_weight is unbalanced for now\"\"\"\n",
    "\n",
    "model = LogisticRegression(solver = 'sag', penalty='l2', max_iter=2000, random_state = seed)\n",
    "\n",
    "model.fit(X_train, y_train)\n",
    "\n",
    "# Calculate training accuracy and error \n",
    "tr_err = 1 - model.score(X_train, y_train)\n",
    "tr_acc = model.score(X_train, y_train)\n",
    "\n",
    "# Calculate validation accuracy and error\n",
    "val_acc = model.score(X_val, y_val)  # Accuracy on validation set\n",
    "val_err = 1 - val_acc  \n",
    "\n",
    "# Calculate testing accuracy and error\n",
    "test_acc = model.score(X_test, y_test)  \n",
    "test_err = 1 - test_acc  "
   ]
  },
  {
   "cell_type": "code",
   "execution_count": 4,
   "id": "ff41d4b2-4346-4659-8f1e-f9d0f277af82",
   "metadata": {},
   "outputs": [],
   "source": [
    "\"\"\"Preparing data for confusion matrix\"\"\"\n",
    "y_train_pred = model.predict(X_train)\n",
    "y_val_pred = model.predict(X_val)\n",
    "\n",
    "labels = [0, 1, 2]"
   ]
  },
  {
   "cell_type": "code",
   "execution_count": 5,
   "id": "0f22df45-1a6d-4755-b146-6d181b739ccf",
   "metadata": {},
   "outputs": [
    {
     "name": "stdout",
     "output_type": "stream",
     "text": [
      "Label 3 Training Accuracy:0.7671077052026583\n",
      "Label 3 Training Error:0.23289229479734175\n"
     ]
    }
   ],
   "source": [
    "print(f'Label 3 Training Accuracy:{tr_acc}')\n",
    "print(f'Label 3 Training Error:{tr_err}')\n",
    "#cm_train = metrics.confusion_matrix(y_train, y_train_pred, labels=labels)\n",
    "#cm_display = metrics.ConfusionMatrixDisplay(confusion_matrix = cm_train, display_labels = labels).plot()"
   ]
  },
  {
   "cell_type": "code",
   "execution_count": 6,
   "id": "cb917290-5177-4020-b12d-7037bf1c5c3e",
   "metadata": {},
   "outputs": [
    {
     "name": "stdout",
     "output_type": "stream",
     "text": [
      "Label 3 Validation Accuracy:0.7789618631383584\n",
      "Label 3 Validation Error:0.22103813686164164\n"
     ]
    }
   ],
   "source": [
    "print(f'Label 3 Validation Accuracy:{val_acc}')\n",
    "print(f'Label 3 Validation Error:{val_err}')\n",
    "#cm_val = metrics.confusion_matrix(y_val, y_val_pred, labels=labels)\n",
    "#cm_display = metrics.ConfusionMatrixDisplay(confusion_matrix = cm_val, display_labels = labels).plot()"
   ]
  },
  {
   "cell_type": "code",
   "execution_count": 7,
   "id": "83408bab-572d-4bb8-9ced-4d58af8f366d",
   "metadata": {},
   "outputs": [
    {
     "name": "stdout",
     "output_type": "stream",
     "text": [
      "Label 3 Test Accuracy:0.7453223240663586\n",
      "Label 3 Test Error:0.25467767593364143\n"
     ]
    }
   ],
   "source": [
    "print(f'Label 3 Test Accuracy:{test_acc}')\n",
    "print(f'Label 3 Test Error:{test_err}')\n",
    "#cm_val = metrics.confusion_matrix(y_val, y_val_pred, labels=labels)\n",
    "#cm_display = metrics.ConfusionMatrixDisplay(confusion_matrix = cm_val, display_labels = labels).plot()"
   ]
  },
  {
   "cell_type": "code",
   "execution_count": 17,
   "id": "6d93ef2d-b230-4496-bbde-6bddf0156ded",
   "metadata": {},
   "outputs": [
    {
     "ename": "SyntaxError",
     "evalue": "invalid syntax (3017569119.py, line 10)",
     "output_type": "error",
     "traceback": [
      "\u001b[0;36m  Cell \u001b[0;32mIn[17], line 10\u001b[0;36m\u001b[0m\n\u001b[0;31m    df = df.sort_values(['stock_id', 'date']).\u001b[0m\n\u001b[0m                                              ^\u001b[0m\n\u001b[0;31mSyntaxError\u001b[0m\u001b[0;31m:\u001b[0m invalid syntax\n"
     ]
    }
   ],
   "source": [
    "\"\"\"Train/test/validation data preparation for label_7\"\"\"\n",
    "\n",
    "# For the sake of my current sanity the model does NOT have any strings in it\n",
    "\n",
    "df = pd.read_csv('training_data.csv')\n",
    "df = df.drop(columns=['title', 'label_3']) # no label_3 here\n",
    "df['stock_id'] = LabelEncoder().fit_transform(df['stock'])\n",
    "df = df.drop(columns=['stock'])\n",
    "\n",
    "df = df.sort_values(['stock_id', 'date']).\n",
    "df['prev_close'] = df.groupby('stock_id')['close'].shift(1)\n",
    "df = df.drop(columns=['date'])\n",
    "df.replace([np.inf, -np.inf], np.nan, inplace=True)\n",
    "df.dropna(inplace=True)\n",
    "\n",
    "def sort_by_stock_and_time(df, train_size = 0.15, val_size = 0.15, test_size = 0.7):\n",
    "    train_stocks = []\n",
    "    val_stocks = []\n",
    "    test_stocks = []\n",
    "\n",
    "    for stock in df['stock_id'].unique():\n",
    "        stock_df = df[df['stock_id'] == stock]\n",
    "        n = len(stock_df)\n",
    "        train_end = int(n * train_size)\n",
    "        val_end = int(n * val_size)\n",
    "        test_end = int(n * test_size)\n",
    "        \n",
    "        train_stocks.append(stock_df.iloc[:train_end])\n",
    "        val_stocks.append(stock_df.iloc[train_end:train_end + val_end])\n",
    "        test_stocks.append(stock_df.iloc[train_end + val_end:])\n",
    "        \n",
    "    train_df = pd.concat(train_stocks).reset_index(drop=True)\n",
    "    val_df = pd.concat(val_stocks).reset_index(drop=True)\n",
    "    test_df = pd.concat(test_stocks).reset_index(drop=True)\n",
    "    \n",
    "    return train_df, val_df, test_df\n",
    "\n",
    "train_df, val_df, test_df = sort_by_stock_and_time(df)\n",
    "\n",
    "# Separate features and target for each set\n",
    "X_train = train_df.drop(columns=['label_7'])\n",
    "y_train = train_df['label_7']\n",
    "\n",
    "X_val = val_df.drop(columns=['label_7'])\n",
    "y_val = val_df['label_7']\n",
    "\n",
    "X_test = test_df.drop(columns=['label_7'])\n",
    "y_test = test_df['label_7']"
   ]
  },
  {
   "cell_type": "code",
   "execution_count": 9,
   "id": "411ff0a1-0636-4111-b93f-a522a51cf704",
   "metadata": {},
   "outputs": [
    {
     "name": "stderr",
     "output_type": "stream",
     "text": [
      "/opt/conda/lib/python3.12/site-packages/sklearn/linear_model/_sag.py:348: ConvergenceWarning: The max_iter was reached which means the coef_ did not converge\n",
      "  warnings.warn(\n"
     ]
    }
   ],
   "source": [
    "\"\"\"Logistic Regression, solver = 'sag', penalty = 'l2', max_iter=2000, random_state=seed, class_weight is unbalanced for now\"\"\"\n",
    "\n",
    "model = LogisticRegression(solver = 'sag', penalty='l2', max_iter=2000, random_state = seed)\n",
    "\n",
    "model.fit(X_train, y_train)\n",
    "\n",
    "# Calculate training accuracy and error \n",
    "tr_err = 1 - model.score(X_train, y_train)\n",
    "tr_acc = model.score(X_train, y_train)\n",
    "\n",
    "# Calculate validation accuracy and error\n",
    "val_acc = model.score(X_val, y_val)  # Accuracy on validation set\n",
    "val_err = 1 - val_acc  \n",
    "\n",
    "# Calculate testing accuracy and error\n",
    "test_acc = model.score(X_test, y_test)  \n",
    "test_err = 1 - test_acc "
   ]
  },
  {
   "cell_type": "code",
   "execution_count": 10,
   "id": "1dcabc6e-c3ba-4ae5-80b6-7ca0d588ed08",
   "metadata": {},
   "outputs": [
    {
     "name": "stdout",
     "output_type": "stream",
     "text": [
      "Label 7 Training Accuracy:0.6696401843980123\n",
      "Label 7 Training Error:0.3303598156019877\n"
     ]
    }
   ],
   "source": [
    "print(f'Label 7 Training Accuracy:{tr_acc}')\n",
    "print(f'Label 7 Training Error:{tr_err}')\n",
    "#cm_train = metrics.confusion_matrix(y_train, y_train_pred, labels=labels)\n",
    "#cm_display = metrics.ConfusionMatrixDisplay(confusion_matrix = cm_train, display_labels = labels).plot()"
   ]
  },
  {
   "cell_type": "code",
   "execution_count": 11,
   "id": "ec3a89da-b236-40f9-8239-259b1229e7eb",
   "metadata": {},
   "outputs": [
    {
     "name": "stdout",
     "output_type": "stream",
     "text": [
      "Label 7 Validation Accuracy:0.6883793330539424\n",
      "Label 7 Validation Error:0.3116206669460576\n"
     ]
    }
   ],
   "source": [
    "print(f'Label 7 Validation Accuracy:{val_acc}')\n",
    "print(f'Label 7 Validation Error:{val_err}')\n",
    "#cm_val = metrics.confusion_matrix(y_val, y_val_pred, labels=labels)\n",
    "#cm_display = metrics.ConfusionMatrixDisplay(confusion_matrix = cm_val, display_labels = labels).plot()"
   ]
  },
  {
   "cell_type": "code",
   "execution_count": 12,
   "id": "26ea9f84-c701-4f97-be4d-ca4499a0f518",
   "metadata": {},
   "outputs": [
    {
     "name": "stdout",
     "output_type": "stream",
     "text": [
      "Label 7 Test Accuracy:0.6622099335908895\n",
      "Label 7 Test Error:0.33779006640911047\n"
     ]
    }
   ],
   "source": [
    "print(f'Label 7 Test Accuracy:{test_acc}')\n",
    "print(f'Label 7 Test Error:{test_err}')\n",
    "#cm_val = metrics.confusion_matrix(y_val, y_val_pred, labels=labels)\n",
    "#cm_display = metrics.ConfusionMatrixDisplay(confusion_matrix = cm_val, display_labels = labels).plot()"
   ]
  },
  {
   "cell_type": "code",
   "execution_count": null,
   "id": "a41667db-814d-4588-a380-10c631c863e0",
   "metadata": {},
   "outputs": [],
   "source": []
  }
 ],
 "metadata": {
  "kernelspec": {
   "display_name": "Python 3 (ipykernel)",
   "language": "python",
   "name": "python3"
  },
  "language_info": {
   "codemirror_mode": {
    "name": "ipython",
    "version": 3
   },
   "file_extension": ".py",
   "mimetype": "text/x-python",
   "name": "python",
   "nbconvert_exporter": "python",
   "pygments_lexer": "ipython3",
   "version": "3.12.8"
  }
 },
 "nbformat": 4,
 "nbformat_minor": 5
}
