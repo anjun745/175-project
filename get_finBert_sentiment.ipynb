{
  "cells": [
    {
      "cell_type": "code",
      "execution_count": 17,
      "metadata": {
        "id": "K-Bj0cWAZ50h"
      },
      "outputs": [],
      "source": [
        "import pandas as pd\n",
        "\n",
        "df = pd.read_csv('analyst_ratings_processed.csv')"
      ]
    },
    {
      "cell_type": "code",
      "execution_count": 18,
      "metadata": {
        "colab": {
          "base_uri": "https://localhost:8080/"
        },
        "id": "kbfQT4pYb4N6",
        "outputId": "879867c4-366e-4930-b342-9979c0fd1f3e"
      },
      "outputs": [
        {
          "name": "stdout",
          "output_type": "stream",
          "text": [
            "Index(['Unnamed: 0', 'title', 'date', 'stock'], dtype='object')\n",
            "   Unnamed: 0                                              title  \\\n",
            "0         0.0            Stocks That Hit 52-Week Highs On Friday   \n",
            "1         1.0         Stocks That Hit 52-Week Highs On Wednesday   \n",
            "2         2.0                      71 Biggest Movers From Friday   \n",
            "3         3.0       46 Stocks Moving In Friday's Mid-Day Session   \n",
            "4         4.0  B of A Securities Maintains Neutral on Agilent...   \n",
            "\n",
            "                        date stock  \n",
            "0  2020-06-05 10:30:00-04:00     A  \n",
            "1  2020-06-03 10:45:00-04:00     A  \n",
            "2  2020-05-26 04:30:00-04:00     A  \n",
            "3  2020-05-22 12:45:00-04:00     A  \n",
            "4  2020-05-22 11:38:00-04:00     A  \n",
            "(1400469, 4)\n"
          ]
        }
      ],
      "source": [
        "print(df.columns)\n",
        "print(df.head(5))\n",
        "print(df.shape)"
      ]
    },
    {
      "cell_type": "code",
      "execution_count": null,
      "metadata": {
        "colab": {
          "base_uri": "https://localhost:8080/"
        },
        "id": "XRhhfXKAiCQ2",
        "outputId": "0ad8a23b-9eb4-435e-c6db-acc95b415a92"
      },
      "outputs": [
        {
          "name": "stdout",
          "output_type": "stream",
          "text": [
            "Filtered rows: 333509\n"
          ]
        }
      ],
      "source": [
        "import pandas as pd\n",
        "\n",
        "# S&P500 ticker list from Wikipedia\n",
        "# sp500_table = pd.read_html('https://en.wikipedia.org/wiki/List_of_S%26P_500_companies')[0]\n",
        "# sp500_tickers = sp500_table['Symbol'].tolist()\n",
        "df_snp = pd.read_csv(\"all_stocks_5yr.csv\")\n",
        "df_snp['date'] = pd.to_datetime(df_snp['date'])\n",
        "df_snp.set_index('date', inplace=True)\n",
        "df_snp = df_snp.iloc[::-1]\n",
        "snp500_tickers = df_snp['Name'].unique()\n",
        "snp500_tickers = snp500_tickers.tolist()\n",
        "\n",
        "# Filter your DataFrame (assumes your tickers are in df['Name'] or df['ticker'])\n",
        "filtered_df = df[df['stock'].isin(sp500_tickers)]\n",
        "\n",
        "# Optional: check how many rows were kept\n",
        "print(f\"Filtered rows: {len(filtered_df)}\")"
      ]
    },
    {
      "cell_type": "markdown",
      "metadata": {
        "id": "WKukgD3wcaAo"
      },
      "source": [
        "**Installing finBERT**"
      ]
    },
    {
      "cell_type": "code",
      "execution_count": 21,
      "metadata": {
        "id": "Iyf28OdaccwE"
      },
      "outputs": [],
      "source": [
        "!pip install transformers --quiet"
      ]
    },
    {
      "cell_type": "code",
      "execution_count": 22,
      "metadata": {
        "colab": {
          "base_uri": "https://localhost:8080/"
        },
        "id": "3YkFLzwdcu6X",
        "outputId": "2832eea0-104a-4ee0-b9d9-f3cd84fb63bc"
      },
      "outputs": [
        {
          "name": "stderr",
          "output_type": "stream",
          "text": [
            "Device set to use cuda:0\n"
          ]
        }
      ],
      "source": [
        "from transformers import AutoTokenizer, AutoModelForSequenceClassification, pipeline\n",
        "\n",
        "model_name = \"yiyanghkust/finbert-tone\"\n",
        "tokenizer = AutoTokenizer.from_pretrained(model_name)\n",
        "model = AutoModelForSequenceClassification.from_pretrained(model_name)\n",
        "\n",
        "sentiment_pipeline = pipeline(\"sentiment-analysis\", model=model, tokenizer=tokenizer)\n"
      ]
    },
    {
      "cell_type": "code",
      "execution_count": 29,
      "metadata": {
        "colab": {
          "base_uri": "https://localhost:8080/"
        },
        "id": "oafFw-gQdHWd",
        "outputId": "15d4b2e1-f606-4a25-9f24-5f22a2fed2ed"
      },
      "outputs": [
        {
          "name": "stdout",
          "output_type": "stream",
          "text": [
            "333509\n"
          ]
        },
        {
          "name": "stderr",
          "output_type": "stream",
          "text": [
            "<ipython-input-29-646f4f10a21f>:4: SettingWithCopyWarning: \n",
            "A value is trying to be set on a copy of a slice from a DataFrame.\n",
            "Try using .loc[row_indexer,col_indexer] = value instead\n",
            "\n",
            "See the caveats in the documentation: https://pandas.pydata.org/pandas-docs/stable/user_guide/indexing.html#returning-a-view-versus-a-copy\n",
            "  filtered_df['sentiment'] = [r['label'].lower() for r in results]\n"
          ]
        },
        {
          "name": "stdout",
          "output_type": "stream",
          "text": [
            "   Unnamed: 0                                              title  \\\n",
            "0         0.0            Stocks That Hit 52-Week Highs On Friday   \n",
            "1         1.0         Stocks That Hit 52-Week Highs On Wednesday   \n",
            "2         2.0                      71 Biggest Movers From Friday   \n",
            "3         3.0       46 Stocks Moving In Friday's Mid-Day Session   \n",
            "4         4.0  B of A Securities Maintains Neutral on Agilent...   \n",
            "\n",
            "                        date stock sentiment  \n",
            "0  2020-06-05 10:30:00-04:00     A   neutral  \n",
            "1  2020-06-03 10:45:00-04:00     A   neutral  \n",
            "2  2020-05-26 04:30:00-04:00     A   neutral  \n",
            "3  2020-05-22 12:45:00-04:00     A   neutral  \n",
            "4  2020-05-22 11:38:00-04:00     A  positive  \n"
          ]
        }
      ],
      "source": [
        "print(len(filtered_df))\n",
        "results = sentiment_pipeline(filtered_df['title'].tolist(), batch_size=32)\n",
        "\n",
        "filtered_df['sentiment'] = [r['label'].lower() for r in results]\n",
        "\n",
        "print(filtered_df.head(5))\n",
        "\n",
        "filtered_df.to_csv('finBert_sentiment.csv', index=False)"
      ]
    },
    {
      "cell_type": "code",
      "execution_count": 33,
      "metadata": {
        "colab": {
          "base_uri": "https://localhost:8080/"
        },
        "id": "aQV_k8n_f3mu",
        "outputId": "935e2065-7b10-4964-93d8-e3e0e551128a"
      },
      "outputs": [
        {
          "name": "stdout",
          "output_type": "stream",
          "text": [
            "Total rows: 333509\n",
            "Sentiment counts:\n",
            "sentiment\n",
            "neutral     195700\n",
            "positive     86216\n",
            "negative     51593\n",
            "Name: count, dtype: int64\n"
          ]
        }
      ],
      "source": [
        "import pandas as pd\n",
        "\n",
        "df1 = pd.read_csv('finBert_sentiment.csv')\n",
        "\n",
        "total_rows = len(df1)\n",
        "\n",
        "sentiment_counts = df1['sentiment'].value_counts()\n",
        "\n",
        "# Display results\n",
        "print(f\"Total rows: {total_rows}\")\n",
        "print(\"Sentiment counts:\")\n",
        "print(sentiment_counts)\n"
      ]
    }
  ],
  "metadata": {
    "accelerator": "GPU",
    "colab": {
      "gpuType": "T4",
      "provenance": []
    },
    "kernelspec": {
      "display_name": "Python 3",
      "name": "python3"
    },
    "language_info": {
      "name": "python"
    }
  },
  "nbformat": 4,
  "nbformat_minor": 0
}
